{
 "cells": [
  {
   "cell_type": "code",
   "execution_count": 1,
   "metadata": {},
   "outputs": [],
   "source": [
    "import os\n",
    "from pipeline import pipeline\n",
    "from esns_relaxed import ESNSRelaxed"
   ]
  },
  {
   "cell_type": "code",
   "execution_count": 2,
   "metadata": {},
   "outputs": [],
   "source": [
    "\"\"\"\n",
    "experiments = [\n",
    "    {\"model\": \"TransE\", \"dataset\": \"WN18\", \"negative_sampler\": \"basic\"},\n",
    "    {\"model\": \"TransE\", \"dataset\": \"WN18\", \"negative_sampler\": \"esns_relaxed\", \"similarity_metric\": \"absolute\"},\n",
    "    {\"model\": \"TransE\", \"dataset\": \"WN18\", \"negative_sampler\": \"esns_relaxed\", \"similarity_metric\": \"jaccard\"},\n",
    "    {\"model\": \"TransE\", \"dataset\": \"FB15k\", \"negative_sampler\": \"basic\"},\n",
    "    {\"model\": \"TransE\", \"dataset\": \"FB15k\", \"negative_sampler\": \"esns_relaxed\", \"similarity_metric\": \"absolute\"},\n",
    "    {\"model\": \"TransE\", \"dataset\": \"FB15k\", \"negative_sampler\": \"esns_relaxed\", \"similarity_metric\": \"jaccard\"}\n",
    "]\n",
    "\"\"\"\n",
    "experiments = [\n",
    "    {\"model\": \"TransE\", \"dataset\": \"Nations\", \"negative_sampler\": \"basic\"},\n",
    "    {\"model\": \"TransE\", \"dataset\": \"Nations\", \"negative_sampler\": \"esns_relaxed\", \"similarity_metric\": \"absolute\"},\n",
    "    {\"model\": \"TransE\", \"dataset\": \"Nations\", \"negative_sampler\": \"esns_relaxed\", \"similarity_metric\": \"jaccard\"},\n",
    "    {\"model\": \"TransE\", \"dataset\": \"Countries\", \"negative_sampler\": \"basic\"},\n",
    "    {\"model\": \"TransE\", \"dataset\": \"Countries\", \"negative_sampler\": \"esns_relaxed\", \"similarity_metric\": \"absolute\"},\n",
    "    {\"model\": \"TransE\", \"dataset\": \"Countries\", \"negative_sampler\": \"esns_relaxed\", \"similarity_metric\": \"jaccard\"}\n",
    "]\n",
    "\n",
    "\n",
    "neg_samplers_dict = {\"basic\": \"basic\", \"esns_relaxed\": ESNSRelaxed}\n",
    "\n",
    "index_column_size=1000\n",
    "index_path_base = \"EII\"\n",
    "sampling_size=100\n",
    "q_set_size=50\n",
    "\n",
    "results_path_base = \"results\"\n",
    "checkpoint_path = \"checkpoints\"\n",
    "num_epochs=10\n",
    "device=\"cpu\""
   ]
  },
  {
   "cell_type": "code",
   "execution_count": 3,
   "metadata": {},
   "outputs": [
    {
     "name": "stderr",
     "output_type": "stream",
     "text": [
      "No random seed is specified. Setting to 1357699860.\n"
     ]
    },
    {
     "name": "stdout",
     "output_type": "stream",
     "text": [
      "Training for TransE-Nations-basic\n"
     ]
    },
    {
     "name": "stderr",
     "output_type": "stream",
     "text": [
      "c:\\Users\\Jannis\\miniconda3\\envs\\kge\\lib\\site-packages\\pykeen\\nn\\representation.py:372: UserWarning: Directly use Embedding.max_id instead of num_embeddings.\n",
      "  warnings.warn(f\"Directly use {self.__class__.__name__}.max_id instead of num_embeddings.\")\n"
     ]
    },
    {
     "data": {
      "application/vnd.jupyter.widget-view+json": {
       "model_id": "8e68b7657c0b49148b915c72bf13b4b5",
       "version_major": 2,
       "version_minor": 0
      },
      "text/plain": [
       "Training epochs on cpu:   0%|          | 0/10 [00:00<?, ?epoch/s]"
      ]
     },
     "metadata": {},
     "output_type": "display_data"
    },
    {
     "name": "stderr",
     "output_type": "stream",
     "text": [
      "INFO:pykeen.evaluation.evaluator:Currently automatic memory optimization only supports GPUs, but you're using a CPU. Therefore, the batch_size will be set to the default value.\n",
      "INFO:pykeen.evaluation.evaluator:No evaluation batch_size provided. Setting batch_size to '32'.\n"
     ]
    },
    {
     "data": {
      "application/vnd.jupyter.widget-view+json": {
       "model_id": "8b566caa6c9d4b09bdae7eeda89ab959",
       "version_major": 2,
       "version_minor": 0
      },
      "text/plain": [
       "Evaluating on cpu:   0%|          | 0.00/201 [00:00<?, ?triple/s]"
      ]
     },
     "metadata": {},
     "output_type": "display_data"
    },
    {
     "name": "stderr",
     "output_type": "stream",
     "text": [
      "INFO:pykeen.evaluation.evaluator:Evaluation took 0.10s seconds\n",
      "INFO:pykeen.triples.triples_factory:Stored TriplesFactory(num_entities=14, num_relations=55, num_triples=1592, inverse_triples=False, path=\"C:\\Users\\Jannis\\miniconda3\\envs\\kge\\Lib\\site-packages\\pykeen\\datasets\\nations\\train.txt\") to file:///D:/Master%20Angewandte%20Informatik/Masterarbeit/custom_code/results/TransE-Nations-basic/training_triples\n",
      "INFO:pykeen.pipeline.api:Saved to directory: file:///D:/Master%20Angewandte%20Informatik/Masterarbeit/custom_code/results/TransE-Nations-basic\n",
      "WARNING:pipeline:No random seed is specified. Setting to 2552776311.\n",
      "INFO:pykeen.datasets.utils:Loading cached preprocessed dataset from file:///C:/Users/Jannis/.data/pykeen/datasets/nations/cache/47DEQpj8HBSa-_TImW-5JCeuQeRkm5NM\n",
      "INFO:pykeen.triples.triples_factory:Loading from file:///C:/Users/Jannis/.data/pykeen/datasets/nations/cache/47DEQpj8HBSa-_TImW-5JCeuQeRkm5NM/training\n",
      "INFO:pykeen.triples.triples_factory:Loading from file:///C:/Users/Jannis/.data/pykeen/datasets/nations/cache/47DEQpj8HBSa-_TImW-5JCeuQeRkm5NM/testing\n",
      "INFO:pykeen.triples.triples_factory:Loading from file:///C:/Users/Jannis/.data/pykeen/datasets/nations/cache/47DEQpj8HBSa-_TImW-5JCeuQeRkm5NM/validation\n",
      "c:\\Users\\Jannis\\miniconda3\\envs\\kge\\lib\\site-packages\\pykeen\\nn\\representation.py:372: UserWarning: Directly use Embedding.max_id instead of num_embeddings.\n",
      "  warnings.warn(f\"Directly use {self.__class__.__name__}.max_id instead of num_embeddings.\")\n",
      "INFO:ESNSRelaxed:Loading EII EII/Nations/ESNSRelaxed_absolute_similarity_k14_h.pkl\n",
      "INFO:ESNSRelaxed:Loading EII EII/Nations/ESNSRelaxed_absolute_similarity_k14_t.pkl\n"
     ]
    },
    {
     "name": "stdout",
     "output_type": "stream",
     "text": [
      "Training for TransE-Nations-esns_relaxed-absolute\n"
     ]
    },
    {
     "data": {
      "application/vnd.jupyter.widget-view+json": {
       "model_id": "cff20564a9b8417f85f5508528e2b943",
       "version_major": 2,
       "version_minor": 0
      },
      "text/plain": [
       "Training epochs on cpu:   0%|          | 0/10 [00:00<?, ?epoch/s]"
      ]
     },
     "metadata": {},
     "output_type": "display_data"
    },
    {
     "name": "stderr",
     "output_type": "stream",
     "text": [
      "INFO:ESNSRelaxed:Loading EII EII/Nations/ESNSRelaxed_absolute_similarity_k14_h.pkl\n",
      "INFO:ESNSRelaxed:Loading EII EII/Nations/ESNSRelaxed_absolute_similarity_k14_t.pkl\n",
      "INFO:pykeen.evaluation.evaluator:Currently automatic memory optimization only supports GPUs, but you're using a CPU. Therefore, the batch_size will be set to the default value.\n",
      "INFO:pykeen.evaluation.evaluator:No evaluation batch_size provided. Setting batch_size to '32'.\n"
     ]
    },
    {
     "data": {
      "application/vnd.jupyter.widget-view+json": {
       "model_id": "96413a885d6846e5a8aeff2b304190e2",
       "version_major": 2,
       "version_minor": 0
      },
      "text/plain": [
       "Evaluating on cpu:   0%|          | 0.00/201 [00:00<?, ?triple/s]"
      ]
     },
     "metadata": {},
     "output_type": "display_data"
    },
    {
     "name": "stderr",
     "output_type": "stream",
     "text": [
      "INFO:pykeen.evaluation.evaluator:Evaluation took 0.09s seconds\n",
      "INFO:pykeen.triples.triples_factory:Stored TriplesFactory(num_entities=14, num_relations=55, num_triples=1592, inverse_triples=False, path=\"C:\\Users\\Jannis\\miniconda3\\envs\\kge\\Lib\\site-packages\\pykeen\\datasets\\nations\\train.txt\") to file:///D:/Master%20Angewandte%20Informatik/Masterarbeit/custom_code/results/TransE-Nations-esns_relaxed-absolute/training_triples\n",
      "INFO:pykeen.pipeline.api:Saved to directory: file:///D:/Master%20Angewandte%20Informatik/Masterarbeit/custom_code/results/TransE-Nations-esns_relaxed-absolute\n",
      "WARNING:pipeline:No random seed is specified. Setting to 174879204.\n",
      "INFO:pykeen.datasets.utils:Loading cached preprocessed dataset from file:///C:/Users/Jannis/.data/pykeen/datasets/nations/cache/47DEQpj8HBSa-_TImW-5JCeuQeRkm5NM\n",
      "INFO:pykeen.triples.triples_factory:Loading from file:///C:/Users/Jannis/.data/pykeen/datasets/nations/cache/47DEQpj8HBSa-_TImW-5JCeuQeRkm5NM/training\n",
      "INFO:pykeen.triples.triples_factory:Loading from file:///C:/Users/Jannis/.data/pykeen/datasets/nations/cache/47DEQpj8HBSa-_TImW-5JCeuQeRkm5NM/testing\n",
      "INFO:pykeen.triples.triples_factory:Loading from file:///C:/Users/Jannis/.data/pykeen/datasets/nations/cache/47DEQpj8HBSa-_TImW-5JCeuQeRkm5NM/validation\n",
      "c:\\Users\\Jannis\\miniconda3\\envs\\kge\\lib\\site-packages\\pykeen\\nn\\representation.py:372: UserWarning: Directly use Embedding.max_id instead of num_embeddings.\n",
      "  warnings.warn(f\"Directly use {self.__class__.__name__}.max_id instead of num_embeddings.\")\n",
      "INFO:ESNSRelaxed:Loading EII EII/Nations/ESNSRelaxed_jaccard_similarity_k14_h.pkl\n",
      "INFO:ESNSRelaxed:Loading EII EII/Nations/ESNSRelaxed_jaccard_similarity_k14_t.pkl\n"
     ]
    },
    {
     "name": "stdout",
     "output_type": "stream",
     "text": [
      "Training for TransE-Nations-esns_relaxed-jaccard\n"
     ]
    },
    {
     "data": {
      "application/vnd.jupyter.widget-view+json": {
       "model_id": "70f0a04becab49e7bb0ec0725603fd87",
       "version_major": 2,
       "version_minor": 0
      },
      "text/plain": [
       "Training epochs on cpu:   0%|          | 0/10 [00:00<?, ?epoch/s]"
      ]
     },
     "metadata": {},
     "output_type": "display_data"
    },
    {
     "name": "stderr",
     "output_type": "stream",
     "text": [
      "INFO:ESNSRelaxed:Loading EII EII/Nations/ESNSRelaxed_jaccard_similarity_k14_h.pkl\n",
      "INFO:ESNSRelaxed:Loading EII EII/Nations/ESNSRelaxed_jaccard_similarity_k14_t.pkl\n",
      "INFO:pykeen.evaluation.evaluator:Currently automatic memory optimization only supports GPUs, but you're using a CPU. Therefore, the batch_size will be set to the default value.\n",
      "INFO:pykeen.evaluation.evaluator:No evaluation batch_size provided. Setting batch_size to '32'.\n"
     ]
    },
    {
     "data": {
      "application/vnd.jupyter.widget-view+json": {
       "model_id": "14e60642933b4d86b4d9054cb5e4e69b",
       "version_major": 2,
       "version_minor": 0
      },
      "text/plain": [
       "Evaluating on cpu:   0%|          | 0.00/201 [00:00<?, ?triple/s]"
      ]
     },
     "metadata": {},
     "output_type": "display_data"
    },
    {
     "name": "stderr",
     "output_type": "stream",
     "text": [
      "INFO:pykeen.evaluation.evaluator:Evaluation took 0.09s seconds\n",
      "INFO:pykeen.triples.triples_factory:Stored TriplesFactory(num_entities=14, num_relations=55, num_triples=1592, inverse_triples=False, path=\"C:\\Users\\Jannis\\miniconda3\\envs\\kge\\Lib\\site-packages\\pykeen\\datasets\\nations\\train.txt\") to file:///D:/Master%20Angewandte%20Informatik/Masterarbeit/custom_code/results/TransE-Nations-esns_relaxed-jaccard/training_triples\n",
      "INFO:pykeen.pipeline.api:Saved to directory: file:///D:/Master%20Angewandte%20Informatik/Masterarbeit/custom_code/results/TransE-Nations-esns_relaxed-jaccard\n",
      "WARNING:pipeline:No random seed is specified. Setting to 3561618768.\n",
      "INFO:pykeen.datasets.utils:Loading cached preprocessed dataset from file:///C:/Users/Jannis/.data/pykeen/datasets/countries/cache/47DEQpj8HBSa-_TImW-5JCeuQeRkm5NM\n",
      "INFO:pykeen.triples.triples_factory:Loading from file:///C:/Users/Jannis/.data/pykeen/datasets/countries/cache/47DEQpj8HBSa-_TImW-5JCeuQeRkm5NM/training\n",
      "INFO:pykeen.triples.triples_factory:Loading from file:///C:/Users/Jannis/.data/pykeen/datasets/countries/cache/47DEQpj8HBSa-_TImW-5JCeuQeRkm5NM/testing\n",
      "INFO:pykeen.triples.triples_factory:Loading from file:///C:/Users/Jannis/.data/pykeen/datasets/countries/cache/47DEQpj8HBSa-_TImW-5JCeuQeRkm5NM/validation\n",
      "c:\\Users\\Jannis\\miniconda3\\envs\\kge\\lib\\site-packages\\pykeen\\nn\\representation.py:372: UserWarning: Directly use Embedding.max_id instead of num_embeddings.\n",
      "  warnings.warn(f\"Directly use {self.__class__.__name__}.max_id instead of num_embeddings.\")\n"
     ]
    },
    {
     "name": "stdout",
     "output_type": "stream",
     "text": [
      "Training for TransE-Countries-basic\n"
     ]
    },
    {
     "data": {
      "application/vnd.jupyter.widget-view+json": {
       "model_id": "5aaf54af44da47fc9394dfb734d9508f",
       "version_major": 2,
       "version_minor": 0
      },
      "text/plain": [
       "Training epochs on cpu:   0%|          | 0/10 [00:00<?, ?epoch/s]"
      ]
     },
     "metadata": {},
     "output_type": "display_data"
    },
    {
     "name": "stderr",
     "output_type": "stream",
     "text": [
      "INFO:pykeen.evaluation.evaluator:Currently automatic memory optimization only supports GPUs, but you're using a CPU. Therefore, the batch_size will be set to the default value.\n",
      "INFO:pykeen.evaluation.evaluator:No evaluation batch_size provided. Setting batch_size to '32'.\n"
     ]
    },
    {
     "data": {
      "application/vnd.jupyter.widget-view+json": {
       "model_id": "c56bb4606a0d4db6a727c5b04257dff5",
       "version_major": 2,
       "version_minor": 0
      },
      "text/plain": [
       "Evaluating on cpu:   0%|          | 0.00/24.0 [00:00<?, ?triple/s]"
      ]
     },
     "metadata": {},
     "output_type": "display_data"
    },
    {
     "name": "stderr",
     "output_type": "stream",
     "text": [
      "INFO:pykeen.evaluation.evaluator:Evaluation took 0.08s seconds\n",
      "INFO:pykeen.triples.triples_factory:Stored TriplesFactory(num_entities=271, num_relations=2, num_triples=1110, inverse_triples=False, path=\"C:\\Users\\Jannis\\.data\\pykeen\\datasets\\countries\\train.txt\") to file:///D:/Master%20Angewandte%20Informatik/Masterarbeit/custom_code/results/TransE-Countries-basic/training_triples\n",
      "INFO:pykeen.pipeline.api:Saved to directory: file:///D:/Master%20Angewandte%20Informatik/Masterarbeit/custom_code/results/TransE-Countries-basic\n",
      "WARNING:pipeline:No random seed is specified. Setting to 2154783371.\n",
      "INFO:pykeen.datasets.utils:Loading cached preprocessed dataset from file:///C:/Users/Jannis/.data/pykeen/datasets/countries/cache/47DEQpj8HBSa-_TImW-5JCeuQeRkm5NM\n",
      "INFO:pykeen.triples.triples_factory:Loading from file:///C:/Users/Jannis/.data/pykeen/datasets/countries/cache/47DEQpj8HBSa-_TImW-5JCeuQeRkm5NM/training\n",
      "INFO:pykeen.triples.triples_factory:Loading from file:///C:/Users/Jannis/.data/pykeen/datasets/countries/cache/47DEQpj8HBSa-_TImW-5JCeuQeRkm5NM/testing\n",
      "INFO:pykeen.triples.triples_factory:Loading from file:///C:/Users/Jannis/.data/pykeen/datasets/countries/cache/47DEQpj8HBSa-_TImW-5JCeuQeRkm5NM/validation\n",
      "c:\\Users\\Jannis\\miniconda3\\envs\\kge\\lib\\site-packages\\pykeen\\nn\\representation.py:372: UserWarning: Directly use Embedding.max_id instead of num_embeddings.\n",
      "  warnings.warn(f\"Directly use {self.__class__.__name__}.max_id instead of num_embeddings.\")\n",
      "INFO:ESNSRelaxed:Loading EII EII/Countries/ESNSRelaxed_absolute_similarity_k271_h.pkl\n",
      "INFO:ESNSRelaxed:Loading EII EII/Countries/ESNSRelaxed_absolute_similarity_k271_t.pkl\n"
     ]
    },
    {
     "name": "stdout",
     "output_type": "stream",
     "text": [
      "Training for TransE-Countries-esns_relaxed-absolute\n"
     ]
    },
    {
     "data": {
      "application/vnd.jupyter.widget-view+json": {
       "model_id": "17637b3dce6b42ab8f3f7425bb355d25",
       "version_major": 2,
       "version_minor": 0
      },
      "text/plain": [
       "Training epochs on cpu:   0%|          | 0/10 [00:00<?, ?epoch/s]"
      ]
     },
     "metadata": {},
     "output_type": "display_data"
    },
    {
     "name": "stderr",
     "output_type": "stream",
     "text": [
      "INFO:ESNSRelaxed:Loading EII EII/Countries/ESNSRelaxed_absolute_similarity_k271_h.pkl\n",
      "INFO:ESNSRelaxed:Loading EII EII/Countries/ESNSRelaxed_absolute_similarity_k271_t.pkl\n",
      "INFO:pykeen.evaluation.evaluator:Currently automatic memory optimization only supports GPUs, but you're using a CPU. Therefore, the batch_size will be set to the default value.\n",
      "INFO:pykeen.evaluation.evaluator:No evaluation batch_size provided. Setting batch_size to '32'.\n"
     ]
    },
    {
     "data": {
      "application/vnd.jupyter.widget-view+json": {
       "model_id": "c96f51eb2e8243d7997bb56f934519cd",
       "version_major": 2,
       "version_minor": 0
      },
      "text/plain": [
       "Evaluating on cpu:   0%|          | 0.00/24.0 [00:00<?, ?triple/s]"
      ]
     },
     "metadata": {},
     "output_type": "display_data"
    },
    {
     "name": "stderr",
     "output_type": "stream",
     "text": [
      "INFO:pykeen.evaluation.evaluator:Evaluation took 0.07s seconds\n",
      "INFO:pykeen.triples.triples_factory:Stored TriplesFactory(num_entities=271, num_relations=2, num_triples=1110, inverse_triples=False, path=\"C:\\Users\\Jannis\\.data\\pykeen\\datasets\\countries\\train.txt\") to file:///D:/Master%20Angewandte%20Informatik/Masterarbeit/custom_code/results/TransE-Countries-esns_relaxed-absolute/training_triples\n",
      "INFO:pykeen.pipeline.api:Saved to directory: file:///D:/Master%20Angewandte%20Informatik/Masterarbeit/custom_code/results/TransE-Countries-esns_relaxed-absolute\n",
      "WARNING:pipeline:No random seed is specified. Setting to 2416090413.\n",
      "INFO:pykeen.datasets.utils:Loading cached preprocessed dataset from file:///C:/Users/Jannis/.data/pykeen/datasets/countries/cache/47DEQpj8HBSa-_TImW-5JCeuQeRkm5NM\n",
      "INFO:pykeen.triples.triples_factory:Loading from file:///C:/Users/Jannis/.data/pykeen/datasets/countries/cache/47DEQpj8HBSa-_TImW-5JCeuQeRkm5NM/training\n",
      "INFO:pykeen.triples.triples_factory:Loading from file:///C:/Users/Jannis/.data/pykeen/datasets/countries/cache/47DEQpj8HBSa-_TImW-5JCeuQeRkm5NM/testing\n",
      "INFO:pykeen.triples.triples_factory:Loading from file:///C:/Users/Jannis/.data/pykeen/datasets/countries/cache/47DEQpj8HBSa-_TImW-5JCeuQeRkm5NM/validation\n",
      "c:\\Users\\Jannis\\miniconda3\\envs\\kge\\lib\\site-packages\\pykeen\\nn\\representation.py:372: UserWarning: Directly use Embedding.max_id instead of num_embeddings.\n",
      "  warnings.warn(f\"Directly use {self.__class__.__name__}.max_id instead of num_embeddings.\")\n",
      "INFO:ESNSRelaxed:Loading EII EII/Countries/ESNSRelaxed_jaccard_similarity_k271_h.pkl\n",
      "INFO:ESNSRelaxed:Loading EII EII/Countries/ESNSRelaxed_jaccard_similarity_k271_t.pkl\n"
     ]
    },
    {
     "name": "stdout",
     "output_type": "stream",
     "text": [
      "Training for TransE-Countries-esns_relaxed-jaccard\n"
     ]
    },
    {
     "data": {
      "application/vnd.jupyter.widget-view+json": {
       "model_id": "190a8b5b19d64f199733785616a1133a",
       "version_major": 2,
       "version_minor": 0
      },
      "text/plain": [
       "Training epochs on cpu:   0%|          | 0/10 [00:00<?, ?epoch/s]"
      ]
     },
     "metadata": {},
     "output_type": "display_data"
    },
    {
     "name": "stderr",
     "output_type": "stream",
     "text": [
      "INFO:ESNSRelaxed:Loading EII EII/Countries/ESNSRelaxed_jaccard_similarity_k271_h.pkl\n",
      "INFO:ESNSRelaxed:Loading EII EII/Countries/ESNSRelaxed_jaccard_similarity_k271_t.pkl\n",
      "INFO:pykeen.evaluation.evaluator:Currently automatic memory optimization only supports GPUs, but you're using a CPU. Therefore, the batch_size will be set to the default value.\n",
      "INFO:pykeen.evaluation.evaluator:No evaluation batch_size provided. Setting batch_size to '32'.\n"
     ]
    },
    {
     "data": {
      "application/vnd.jupyter.widget-view+json": {
       "model_id": "1cbdcd4afd714f3997329d4cb1014118",
       "version_major": 2,
       "version_minor": 0
      },
      "text/plain": [
       "Evaluating on cpu:   0%|          | 0.00/24.0 [00:00<?, ?triple/s]"
      ]
     },
     "metadata": {},
     "output_type": "display_data"
    },
    {
     "name": "stderr",
     "output_type": "stream",
     "text": [
      "INFO:pykeen.evaluation.evaluator:Evaluation took 0.07s seconds\n",
      "INFO:pykeen.triples.triples_factory:Stored TriplesFactory(num_entities=271, num_relations=2, num_triples=1110, inverse_triples=False, path=\"C:\\Users\\Jannis\\.data\\pykeen\\datasets\\countries\\train.txt\") to file:///D:/Master%20Angewandte%20Informatik/Masterarbeit/custom_code/results/TransE-Countries-esns_relaxed-jaccard/training_triples\n",
      "INFO:pykeen.pipeline.api:Saved to directory: file:///D:/Master%20Angewandte%20Informatik/Masterarbeit/custom_code/results/TransE-Countries-esns_relaxed-jaccard\n"
     ]
    }
   ],
   "source": [
    "for exp in experiments:\n",
    "\n",
    "    exp_name = \"-\".join(list(exp.values()))\n",
    "    exp[\"exp_name\"] = exp_name\n",
    "    print(\"Training for {}\".format(exp_name))\n",
    "\n",
    "    if \"esns\" in exp[\"negative_sampler\"]:\n",
    "        negative_sampler_kwargs=dict(\n",
    "            index_column_size=index_column_size,\n",
    "            index_path=index_path_base + \"/\" + exp[\"dataset\"],\n",
    "            sampling_size=sampling_size,\n",
    "            q_set_size=q_set_size,\n",
    "            similarity_metric=exp[\"similarity_metric\"]\n",
    "        )\n",
    "    else:\n",
    "        negative_sampler_kwargs=dict()\n",
    "    \n",
    "\n",
    "    results= pipeline(\n",
    "        dataset=exp[\"dataset\"],\n",
    "        model=exp[\"model\"],\n",
    "        negative_sampler=neg_samplers_dict[exp[\"negative_sampler\"]],\n",
    "        negative_sampler_kwargs=negative_sampler_kwargs,\n",
    "        # Training configuration\n",
    "        training_kwargs=dict(\n",
    "            num_epochs=num_epochs,\n",
    "            use_tqdm_batch=False,\n",
    "            checkpoint_name=checkpoint_path + '/' + exp_name +'.pt',\n",
    "\n",
    "        checkpoint_frequency=5,\n",
    "        ),  \n",
    "        # Runtime configuration\n",
    "        #random_seed=1235,\n",
    "        device=device,\n",
    "    )\n",
    "\n",
    "    save_path = results_path_base + \"/\" + exp_name\n",
    "    os.makedirs(save_path)\n",
    "    results.save_to_directory(save_path)"
   ]
  },
  {
   "cell_type": "code",
   "execution_count": 4,
   "metadata": {},
   "outputs": [
    {
     "data": {
      "text/plain": [
       "[]"
      ]
     },
     "execution_count": 4,
     "metadata": {},
     "output_type": "execute_result"
    },
    {
     "data": {
      "image/png": "[encoded data removed]",
      "text/plain": [
       "<Figure size 1152x648 with 1 Axes>"
      ]
     },
     "metadata": {
      "needs_background": "light"
     },
     "output_type": "display_data"
    }
   ],
   "source": [
    "\"\"\"\n",
    "plt.figure(figsize=(16,9))\n",
    "for k in results.keys():\n",
    "    results[k].plot_losses()\n",
    "plt.legend([exp[\"exp_name\"] for exp in experiments])\n",
    "plt.plot()\n",
    "\"\"\" "
   ]
  }
 ],
 "metadata": {
  "interpreter": {
   "hash": "e76fc96f2b997eed3d49ce6d8b3f7911293345ed62f3081bed613f41739aebe2"
  },
  "kernelspec": {
   "display_name": "Python 3.10.4 ('kge')",
   "language": "python",
   "name": "python3"
  },
  "language_info": {
   "codemirror_mode": {
    "name": "ipython",
    "version": 3
   },
   "file_extension": ".py",
   "mimetype": "text/x-python",
   "name": "python",
   "nbconvert_exporter": "python",
   "pygments_lexer": "ipython3",
   "version": "3.10.4"
  },
  "orig_nbformat": 4
 },
 "nbformat": 4,
 "nbformat_minor": 2
}
