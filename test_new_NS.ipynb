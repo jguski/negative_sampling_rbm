{
 "cells": [
  {
   "cell_type": "code",
   "execution_count": null,
   "metadata": {},
   "outputs": [],
   "source": [
    "from pipeline import pipeline\n",
    "from esns_relaxed import ESNSRelaxed"
   ]
  },
  {
   "cell_type": "code",
   "execution_count": null,
   "metadata": {},
   "outputs": [],
   "source": [
    "result = pipeline(\n",
    "    dataset='WN18',\n",
    "    model='TransE',\n",
    "    negative_sampler=ESNSRelaxed,\n",
    "    negative_sampler_kwargs=dict(\n",
    "        index_column_size=1000,\n",
    "        index_path=\"EII/WN18\",\n",
    "        sampling_size=100,\n",
    "        q_set_size=50,\n",
    "        similarity_metric=\"absolute\"\n",
    "    ),\n",
    "    # Training configuration\n",
    "    training_kwargs=dict(\n",
    "        num_epochs=100,\n",
    "        use_tqdm_batch=False,\n",
    "    ),  \n",
    "    # Runtime configuration\n",
    "    random_seed=1235,\n",
    "    device='cpu',\n",
    ")"
   ]
  }
 ],
 "metadata": {
  "interpreter": {
   "hash": "e76fc96f2b997eed3d49ce6d8b3f7911293345ed62f3081bed613f41739aebe2"
  },
  "kernelspec": {
   "display_name": "Python 3.10.4 ('kge')",
   "language": "python",
   "name": "python3"
  },
  "language_info": {
   "codemirror_mode": {
    "name": "ipython",
    "version": 3
   },
   "file_extension": ".py",
   "mimetype": "text/x-python",
   "name": "python",
   "nbconvert_exporter": "python",
   "pygments_lexer": "ipython3",
   "version": "3.10.4"
  },
  "orig_nbformat": 4
 },
 "nbformat": 4,
 "nbformat_minor": 2
}
