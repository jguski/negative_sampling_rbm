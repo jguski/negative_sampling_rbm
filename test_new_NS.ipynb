{
 "cells": [
  {
   "cell_type": "code",
   "execution_count": 1,
   "metadata": {},
   "outputs": [],
   "source": [
    "from pipeline import pipeline\n",
    "from esns import ESNSRelaxed"
   ]
  },
  {
   "cell_type": "code",
   "execution_count": 5,
   "metadata": {},
   "outputs": [
    {
     "name": "stderr",
     "output_type": "stream",
     "text": [
      "INFO:pykeen.datasets.utils:Loading cached preprocessed dataset from file:///C:/Users/Jannis/.data/pykeen/datasets/wn18/cache/47DEQpj8HBSa-_TImW-5JCeuQeRkm5NM\n",
      "INFO:pykeen.triples.triples_factory:Loading from file:///C:/Users/Jannis/.data/pykeen/datasets/wn18/cache/47DEQpj8HBSa-_TImW-5JCeuQeRkm5NM/training\n",
      "INFO:pykeen.triples.triples_factory:Loading from file:///C:/Users/Jannis/.data/pykeen/datasets/wn18/cache/47DEQpj8HBSa-_TImW-5JCeuQeRkm5NM/testing\n",
      "INFO:pykeen.triples.triples_factory:Loading from file:///C:/Users/Jannis/.data/pykeen/datasets/wn18/cache/47DEQpj8HBSa-_TImW-5JCeuQeRkm5NM/validation\n",
      "c:\\Users\\Jannis\\miniconda3\\envs\\kge\\lib\\site-packages\\pykeen\\nn\\representation.py:372: UserWarning: Directly use Embedding.max_id instead of num_embeddings.\n",
      "  warnings.warn(f\"Directly use {self.__class__.__name__}.max_id instead of num_embeddings.\")\n",
      "INFO:ESNSRelaxed:Loading EII EII/WN18/ESNSRelaxed_absolute_similarity_k1000_h.pkl\n",
      "INFO:ESNSRelaxed:Loading EII EII/WN18/ESNSRelaxed_absolute_similarity_k1000_t.pkl\n"
     ]
    },
    {
     "name": "stdout",
     "output_type": "stream",
     "text": [
      "0.013964176177978516\n",
      "0.010971307754516602\n"
     ]
    },
    {
     "data": {
      "application/vnd.jupyter.widget-view+json": {
       "model_id": "8f685a8f72a04d2ca8d6d3be85e9a765",
       "version_major": 2,
       "version_minor": 0
      },
      "text/plain": [
       "Training epochs on cpu:   0%|          | 0/100 [00:00<?, ?epoch/s]"
      ]
     },
     "metadata": {},
     "output_type": "display_data"
    },
    {
     "name": "stderr",
     "output_type": "stream",
     "text": [
      "INFO:ESNSRelaxed:Loading EII EII/WN18/ESNSRelaxed_absolute_similarity_k1000_h.pkl\n",
      "INFO:ESNSRelaxed:Loading EII EII/WN18/ESNSRelaxed_absolute_similarity_k1000_t.pkl\n"
     ]
    },
    {
     "name": "stdout",
     "output_type": "stream",
     "text": [
      "0.009974002838134766\n",
      "0.009972572326660156\n",
      "0.007978200912475586\n",
      "0.014960050582885742\n",
      "0.010970592498779297\n",
      "0.009973526000976562\n",
      "0.010970592498779297\n",
      "0.008977174758911133\n",
      "0.011969327926635742\n",
      "0.007979154586791992\n",
      "0.012965917587280273\n",
      "0.008976221084594727\n",
      "0.008975505828857422\n",
      "0.012964963912963867\n",
      "0.009974479675292969\n",
      "0.00897669792175293\n",
      "0.011967897415161133\n",
      "0.008975028991699219\n",
      "0.008976221084594727\n",
      "0.008972406387329102\n",
      "0.007979154586791992\n",
      "0.014960289001464844\n",
      "0.012967824935913086\n",
      "0.012966394424438477\n",
      "0.013964176177978516\n",
      "0.013966798782348633\n",
      "0.014959335327148438\n",
      "0.012969255447387695\n",
      "0.016955137252807617\n",
      "0.010970354080200195\n",
      "0.010969877243041992\n",
      "0.015958309173583984\n",
      "0.01097249984741211\n",
      "0.0069828033447265625\n",
      "0.008976459503173828\n",
      "0.009973764419555664\n",
      "0.008977413177490234\n",
      "0.008974790573120117\n",
      "0.008976936340332031\n",
      "0.008975028991699219\n",
      "0.008976221084594727\n",
      "0.012965917587280273\n",
      "0.007979154586791992\n",
      "0.011969327926635742\n",
      "0.012965202331542969\n",
      "0.011969327926635742\n",
      "0.008976936340332031\n",
      "0.009975671768188477\n",
      "0.008976221084594727\n",
      "0.01296544075012207\n",
      "0.008975982666015625\n",
      "0.007979154586791992\n",
      "0.00797891616821289\n",
      "0.011966466903686523\n",
      "0.010985136032104492\n",
      "0.010972261428833008\n",
      "0.008975505828857422\n",
      "0.009973526000976562\n",
      "0.00896143913269043\n",
      "0.017941713333129883\n",
      "0.013960838317871094\n",
      "0.011970996856689453\n",
      "0.0069811344146728516\n",
      "0.008975028991699219\n",
      "0.009972572326660156\n",
      "0.010970592498779297\n",
      "0.008976221084594727\n",
      "0.009973526000976562\n",
      "0.00897526741027832\n",
      "0.011968851089477539\n",
      "0.013959169387817383\n",
      "0.012966394424438477\n",
      "0.011966228485107422\n",
      "0.016954898834228516\n",
      "0.01496124267578125\n",
      "0.011967658996582031\n",
      "0.011967658996582031\n",
      "0.010970592498779297\n",
      "0.010971307754516602\n",
      "0.01197361946105957\n",
      "0.012965917587280273\n",
      "0.009974002838134766\n",
      "0.012965917587280273\n",
      "0.008976459503173828\n",
      "0.00898122787475586\n",
      "0.008975505828857422\n",
      "0.007977485656738281\n",
      "0.008975505828857422\n",
      "0.006978273391723633\n",
      "0.0109710693359375\n",
      "0.012965202331542969\n",
      "0.006983280181884766\n",
      "0.0069806575775146484\n",
      "0.009970903396606445\n",
      "0.008976221084594727\n",
      "0.00897526741027832\n",
      "0.008976221084594727\n",
      "0.011968612670898438\n",
      "0.009973526000976562\n",
      "0.006981849670410156\n",
      "0.009974241256713867\n",
      "0.008975744247436523\n",
      "0.008977174758911133\n",
      "0.00698399543762207\n",
      "0.00598597526550293\n",
      "0.005984783172607422\n",
      "0.009965181350708008\n",
      "0.006980419158935547\n",
      "0.007979154586791992\n",
      "0.01196742057800293\n",
      "0.007976055145263672\n",
      "0.009973287582397461\n",
      "0.006983041763305664\n",
      "0.00897526741027832\n",
      "0.007978677749633789\n",
      "0.01196908950805664\n",
      "0.008976459503173828\n",
      "0.010971307754516602\n",
      "0.00897669792175293\n",
      "0.006982088088989258\n",
      "0.007978677749633789\n",
      "0.006983518600463867\n",
      "0.006983041763305664\n",
      "0.009972333908081055\n",
      "0.007980585098266602\n",
      "0.008977651596069336\n",
      "0.007980108261108398\n",
      "0.01595592498779297\n",
      "0.006981849670410156\n",
      "0.009971380233764648\n",
      "0.008976459503173828\n",
      "0.00797891616821289\n",
      "0.007979869842529297\n",
      "0.007979393005371094\n",
      "0.008974552154541016\n",
      "0.008937597274780273\n",
      "0.00897526741027832\n",
      "0.009972810745239258\n",
      "0.00997471809387207\n",
      "0.009975433349609375\n",
      "0.00897669792175293\n",
      "0.008974790573120117\n",
      "0.00897526741027832\n",
      "0.008976221084594727\n",
      "0.008976221084594727\n",
      "0.009971857070922852\n",
      "0.006981372833251953\n",
      "0.006981611251831055\n",
      "0.008975982666015625\n",
      "0.009973287582397461\n",
      "0.008974790573120117\n",
      "0.008975982666015625\n",
      "0.007977724075317383\n",
      "0.008977413177490234\n",
      "0.008975744247436523\n",
      "0.009972095489501953\n",
      "0.00897359848022461\n",
      "0.009973526000976562\n",
      "0.009973526000976562\n",
      "0.0109710693359375\n",
      "0.008974075317382812\n",
      "0.008976936340332031\n",
      "0.008976221084594727\n",
      "0.009972333908081055\n",
      "0.00897526741027832\n",
      "0.008939981460571289\n",
      "0.008978843688964844\n",
      "0.010936737060546875\n",
      "0.0059854984283447266\n",
      "0.011970996856689453\n",
      "0.007979393005371094\n",
      "0.013962984085083008\n",
      "0.00897669792175293\n",
      "0.008976221084594727\n",
      "0.00797891616821289\n",
      "0.011969804763793945\n",
      "0.008976221084594727\n",
      "0.009973287582397461\n",
      "0.008976221084594727\n",
      "0.00798177719116211\n",
      "0.008978605270385742\n",
      "0.0069811344146728516\n",
      "0.009974002838134766\n",
      "0.011967658996582031\n",
      "0.007979869842529297\n",
      "0.010968923568725586\n",
      "0.006981372833251953\n",
      "0.00997471809387207\n",
      "0.01196742057800293\n",
      "0.006981849670410156\n",
      "0.0069806575775146484\n",
      "0.00997304916381836\n",
      "0.009973287582397461\n",
      "0.008978128433227539\n",
      "0.008976221084594727\n",
      "0.007977962493896484\n",
      "0.00897669792175293\n",
      "0.006981611251831055\n",
      "0.007978200912475586\n",
      "0.008976459503173828\n",
      "0.010970115661621094\n",
      "0.005983591079711914\n",
      "0.0059833526611328125\n",
      "0.00598454475402832\n",
      "0.009973764419555664\n",
      "0.009975433349609375\n",
      "0.006981849670410156\n",
      "0.008976221084594727\n",
      "0.008976221084594727\n",
      "0.00997304916381836\n",
      "0.006981372833251953\n",
      "0.008976459503173828\n",
      "0.012970924377441406\n",
      "0.013962984085083008\n",
      "0.014960050582885742\n",
      "0.011971235275268555\n",
      "0.012963533401489258\n",
      "0.008972883224487305\n",
      "0.00797724723815918\n",
      "0.00897526741027832\n",
      "0.00797891616821289\n",
      "0.009972333908081055\n",
      "0.008974790573120117\n",
      "0.008976221084594727\n",
      "0.005984067916870117\n",
      "0.009972095489501953\n",
      "0.013961315155029297\n",
      "0.012965917587280273\n",
      "0.01596522331237793\n",
      "0.012962818145751953\n",
      "0.011968135833740234\n",
      "0.006980419158935547\n",
      "0.010972261428833008\n",
      "0.015957355499267578\n",
      "0.009973526000976562\n",
      "0.009972572326660156\n",
      "0.00698089599609375\n",
      "0.008975982666015625\n",
      "0.00897669792175293\n",
      "0.006980180740356445\n",
      "0.007977962493896484\n",
      "0.007978200912475586\n",
      "0.011968851089477539\n",
      "0.012969732284545898\n",
      "0.015956401824951172\n",
      "0.010970592498779297\n",
      "0.00797891616821289\n",
      "0.00997018814086914\n",
      "0.006981372833251953\n",
      "0.00698089599609375\n",
      "0.007979393005371094\n",
      "0.008977413177490234\n",
      "0.009013891220092773\n",
      "0.009973526000976562\n",
      "0.006980419158935547\n",
      "0.007977724075317383\n",
      "0.010970354080200195\n",
      "0.008983612060546875\n",
      "0.009973287582397461\n",
      "0.0069828033447265625\n",
      "0.008975028991699219\n",
      "0.008976459503173828\n",
      "0.011967182159423828\n",
      "0.006981849670410156\n",
      "0.0079803466796875\n",
      "0.009973764419555664\n",
      "0.006981849670410156\n",
      "0.006981611251831055\n",
      "0.006982088088989258\n",
      "0.00997161865234375\n",
      "0.01296377182006836\n",
      "0.006981372833251953\n",
      "0.00598454475402832\n",
      "0.006981611251831055\n",
      "0.00797891616821289\n",
      "0.00698089599609375\n",
      "0.007939815521240234\n",
      "0.008976936340332031\n",
      "0.009974479675292969\n",
      "0.009974002838134766\n",
      "0.008975982666015625\n",
      "0.008975505828857422\n",
      "0.007977962493896484\n",
      "0.0069828033447265625\n",
      "0.0069828033447265625\n",
      "0.007977962493896484\n",
      "0.007978439331054688\n",
      "0.007973194122314453\n",
      "0.006982564926147461\n",
      "0.005983114242553711\n",
      "0.00997304916381836\n",
      "0.009973526000976562\n",
      "0.008974790573120117\n",
      "0.00897836685180664\n",
      "0.008976936340332031\n",
      "0.009974241256713867\n",
      "0.008973836898803711\n",
      "0.009974479675292969\n",
      "0.009972572326660156\n",
      "0.00698089599609375\n",
      "0.00897526741027832\n",
      "0.008976936340332031\n",
      "0.00897669792175293\n",
      "0.006981611251831055\n",
      "0.007978677749633789\n",
      "0.008977890014648438\n"
     ]
    },
    {
     "name": "stderr",
     "output_type": "stream",
     "text": [
      "WARNING:pykeen.training.training_loop:The training loop just failed during epoch 1 due to error cannot reshape tensor of 0 elements into shape [-1, 0] because the unspecified dimension size -1 can be any value and is ambiguous.\n"
     ]
    },
    {
     "name": "stdout",
     "output_type": "stream",
     "text": [
      "0.007938146591186523\n"
     ]
    },
    {
     "ename": "RuntimeError",
     "evalue": "cannot reshape tensor of 0 elements into shape [-1, 0] because the unspecified dimension size -1 can be any value and is ambiguous",
     "output_type": "error",
     "traceback": [
      "\u001b[1;31m---------------------------------------------------------------------------\u001b[0m",
      "\u001b[1;31mRuntimeError\u001b[0m                              Traceback (most recent call last)",
      "\u001b[1;32md:\\Master Angewandte Informatik\\Masterarbeit\\custom_code\\test_new_NS.ipynb Cell 2'\u001b[0m in \u001b[0;36m<cell line: 1>\u001b[1;34m()\u001b[0m\n\u001b[1;32m----> <a href='vscode-notebook-cell:/d%3A/Master%20Angewandte%20Informatik/Masterarbeit/custom_code/test_new_NS.ipynb#ch0000001?line=0'>1</a>\u001b[0m result \u001b[39m=\u001b[39m pipeline(\n\u001b[0;32m      <a href='vscode-notebook-cell:/d%3A/Master%20Angewandte%20Informatik/Masterarbeit/custom_code/test_new_NS.ipynb#ch0000001?line=1'>2</a>\u001b[0m     dataset\u001b[39m=\u001b[39;49m\u001b[39m'\u001b[39;49m\u001b[39mWN18\u001b[39;49m\u001b[39m'\u001b[39;49m,\n\u001b[0;32m      <a href='vscode-notebook-cell:/d%3A/Master%20Angewandte%20Informatik/Masterarbeit/custom_code/test_new_NS.ipynb#ch0000001?line=2'>3</a>\u001b[0m     model\u001b[39m=\u001b[39;49m\u001b[39m'\u001b[39;49m\u001b[39mTransE\u001b[39;49m\u001b[39m'\u001b[39;49m,\n\u001b[0;32m      <a href='vscode-notebook-cell:/d%3A/Master%20Angewandte%20Informatik/Masterarbeit/custom_code/test_new_NS.ipynb#ch0000001?line=3'>4</a>\u001b[0m     negative_sampler\u001b[39m=\u001b[39;49mESNSRelaxed,\n\u001b[0;32m      <a href='vscode-notebook-cell:/d%3A/Master%20Angewandte%20Informatik/Masterarbeit/custom_code/test_new_NS.ipynb#ch0000001?line=4'>5</a>\u001b[0m     negative_sampler_kwargs\u001b[39m=\u001b[39;49m\u001b[39mdict\u001b[39;49m(\n\u001b[0;32m      <a href='vscode-notebook-cell:/d%3A/Master%20Angewandte%20Informatik/Masterarbeit/custom_code/test_new_NS.ipynb#ch0000001?line=5'>6</a>\u001b[0m         index_column_size\u001b[39m=\u001b[39;49m\u001b[39m1000\u001b[39;49m,\n\u001b[0;32m      <a href='vscode-notebook-cell:/d%3A/Master%20Angewandte%20Informatik/Masterarbeit/custom_code/test_new_NS.ipynb#ch0000001?line=6'>7</a>\u001b[0m         index_path\u001b[39m=\u001b[39;49m\u001b[39m\"\u001b[39;49m\u001b[39mEII/WN18\u001b[39;49m\u001b[39m\"\u001b[39;49m,\n\u001b[0;32m      <a href='vscode-notebook-cell:/d%3A/Master%20Angewandte%20Informatik/Masterarbeit/custom_code/test_new_NS.ipynb#ch0000001?line=7'>8</a>\u001b[0m         sampling_size\u001b[39m=\u001b[39;49m\u001b[39m100\u001b[39;49m,\n\u001b[0;32m      <a href='vscode-notebook-cell:/d%3A/Master%20Angewandte%20Informatik/Masterarbeit/custom_code/test_new_NS.ipynb#ch0000001?line=8'>9</a>\u001b[0m         q_set_size\u001b[39m=\u001b[39;49m\u001b[39m50\u001b[39;49m,\n\u001b[0;32m     <a href='vscode-notebook-cell:/d%3A/Master%20Angewandte%20Informatik/Masterarbeit/custom_code/test_new_NS.ipynb#ch0000001?line=9'>10</a>\u001b[0m         similarity_metric\u001b[39m=\u001b[39;49m\u001b[39m\"\u001b[39;49m\u001b[39mabsolute\u001b[39;49m\u001b[39m\"\u001b[39;49m\n\u001b[0;32m     <a href='vscode-notebook-cell:/d%3A/Master%20Angewandte%20Informatik/Masterarbeit/custom_code/test_new_NS.ipynb#ch0000001?line=10'>11</a>\u001b[0m     ),\n\u001b[0;32m     <a href='vscode-notebook-cell:/d%3A/Master%20Angewandte%20Informatik/Masterarbeit/custom_code/test_new_NS.ipynb#ch0000001?line=11'>12</a>\u001b[0m     \u001b[39m# Training configuration\u001b[39;49;00m\n\u001b[0;32m     <a href='vscode-notebook-cell:/d%3A/Master%20Angewandte%20Informatik/Masterarbeit/custom_code/test_new_NS.ipynb#ch0000001?line=12'>13</a>\u001b[0m     training_kwargs\u001b[39m=\u001b[39;49m\u001b[39mdict\u001b[39;49m(\n\u001b[0;32m     <a href='vscode-notebook-cell:/d%3A/Master%20Angewandte%20Informatik/Masterarbeit/custom_code/test_new_NS.ipynb#ch0000001?line=13'>14</a>\u001b[0m         num_epochs\u001b[39m=\u001b[39;49m\u001b[39m100\u001b[39;49m,\n\u001b[0;32m     <a href='vscode-notebook-cell:/d%3A/Master%20Angewandte%20Informatik/Masterarbeit/custom_code/test_new_NS.ipynb#ch0000001?line=14'>15</a>\u001b[0m         use_tqdm_batch\u001b[39m=\u001b[39;49m\u001b[39mFalse\u001b[39;49;00m,\n\u001b[0;32m     <a href='vscode-notebook-cell:/d%3A/Master%20Angewandte%20Informatik/Masterarbeit/custom_code/test_new_NS.ipynb#ch0000001?line=15'>16</a>\u001b[0m         batch_size\u001b[39m=\u001b[39;49m\u001b[39m8\u001b[39;49m\n\u001b[0;32m     <a href='vscode-notebook-cell:/d%3A/Master%20Angewandte%20Informatik/Masterarbeit/custom_code/test_new_NS.ipynb#ch0000001?line=16'>17</a>\u001b[0m     ),  \n\u001b[0;32m     <a href='vscode-notebook-cell:/d%3A/Master%20Angewandte%20Informatik/Masterarbeit/custom_code/test_new_NS.ipynb#ch0000001?line=17'>18</a>\u001b[0m     \u001b[39m# Runtime configuration\u001b[39;49;00m\n\u001b[0;32m     <a href='vscode-notebook-cell:/d%3A/Master%20Angewandte%20Informatik/Masterarbeit/custom_code/test_new_NS.ipynb#ch0000001?line=18'>19</a>\u001b[0m     random_seed\u001b[39m=\u001b[39;49m\u001b[39m1235\u001b[39;49m,\n\u001b[0;32m     <a href='vscode-notebook-cell:/d%3A/Master%20Angewandte%20Informatik/Masterarbeit/custom_code/test_new_NS.ipynb#ch0000001?line=19'>20</a>\u001b[0m     device\u001b[39m=\u001b[39;49m\u001b[39m'\u001b[39;49m\u001b[39mcpu\u001b[39;49m\u001b[39m'\u001b[39;49m,\n\u001b[0;32m     <a href='vscode-notebook-cell:/d%3A/Master%20Angewandte%20Informatik/Masterarbeit/custom_code/test_new_NS.ipynb#ch0000001?line=20'>21</a>\u001b[0m )\n",
      "File \u001b[1;32md:\\Master Angewandte Informatik\\Masterarbeit\\custom_code\\pipeline.py:543\u001b[0m, in \u001b[0;36mpipeline\u001b[1;34m(dataset, dataset_kwargs, training, testing, validation, evaluation_entity_whitelist, evaluation_relation_whitelist, model, model_kwargs, interaction, interaction_kwargs, dimensions, loss, loss_kwargs, regularizer, regularizer_kwargs, optimizer, optimizer_kwargs, clear_optimizer, lr_scheduler, lr_scheduler_kwargs, training_loop, training_loop_kwargs, negative_sampler, negative_sampler_kwargs, epochs, training_kwargs, stopper, stopper_kwargs, evaluator, evaluator_kwargs, evaluation_kwargs, result_tracker, result_tracker_kwargs, metadata, device, random_seed, use_testing_data, evaluation_fallback, filter_validation_when_testing, use_tqdm)\u001b[0m\n\u001b[0;32m    <a href='file:///d%3A/Master%20Angewandte%20Informatik/Masterarbeit/custom_code/pipeline.py?line=540'>541</a>\u001b[0m \u001b[39m# Train like Cristiano Ronaldo\u001b[39;00m\n\u001b[0;32m    <a href='file:///d%3A/Master%20Angewandte%20Informatik/Masterarbeit/custom_code/pipeline.py?line=541'>542</a>\u001b[0m training_start_time \u001b[39m=\u001b[39m time\u001b[39m.\u001b[39mtime()\n\u001b[1;32m--> <a href='file:///d%3A/Master%20Angewandte%20Informatik/Masterarbeit/custom_code/pipeline.py?line=542'>543</a>\u001b[0m losses \u001b[39m=\u001b[39m training_loop_instance\u001b[39m.\u001b[39mtrain(\n\u001b[0;32m    <a href='file:///d%3A/Master%20Angewandte%20Informatik/Masterarbeit/custom_code/pipeline.py?line=543'>544</a>\u001b[0m     triples_factory\u001b[39m=\u001b[39mtraining,\n\u001b[0;32m    <a href='file:///d%3A/Master%20Angewandte%20Informatik/Masterarbeit/custom_code/pipeline.py?line=544'>545</a>\u001b[0m     stopper\u001b[39m=\u001b[39mstopper_instance,\n\u001b[0;32m    <a href='file:///d%3A/Master%20Angewandte%20Informatik/Masterarbeit/custom_code/pipeline.py?line=545'>546</a>\u001b[0m     clear_optimizer\u001b[39m=\u001b[39mclear_optimizer,\n\u001b[0;32m    <a href='file:///d%3A/Master%20Angewandte%20Informatik/Masterarbeit/custom_code/pipeline.py?line=546'>547</a>\u001b[0m     \u001b[39m*\u001b[39m\u001b[39m*\u001b[39mtraining_kwargs,\n\u001b[0;32m    <a href='file:///d%3A/Master%20Angewandte%20Informatik/Masterarbeit/custom_code/pipeline.py?line=547'>548</a>\u001b[0m )\n\u001b[0;32m    <a href='file:///d%3A/Master%20Angewandte%20Informatik/Masterarbeit/custom_code/pipeline.py?line=548'>549</a>\u001b[0m \u001b[39massert\u001b[39;00m losses \u001b[39mis\u001b[39;00m \u001b[39mnot\u001b[39;00m \u001b[39mNone\u001b[39;00m  \u001b[39m# losses is only none if it's doing search mode\u001b[39;00m\n\u001b[0;32m    <a href='file:///d%3A/Master%20Angewandte%20Informatik/Masterarbeit/custom_code/pipeline.py?line=549'>550</a>\u001b[0m training_end_time \u001b[39m=\u001b[39m time\u001b[39m.\u001b[39mtime() \u001b[39m-\u001b[39m training_start_time\n",
      "File \u001b[1;32mc:\\Users\\Jannis\\miniconda3\\envs\\kge\\lib\\site-packages\\pykeen\\training\\training_loop.py:371\u001b[0m, in \u001b[0;36mTrainingLoop.train\u001b[1;34m(self, triples_factory, num_epochs, batch_size, slice_size, label_smoothing, sampler, continue_training, only_size_probing, use_tqdm, use_tqdm_batch, tqdm_kwargs, stopper, sub_batch_size, num_workers, clear_optimizer, checkpoint_directory, checkpoint_name, checkpoint_frequency, checkpoint_on_failure, drop_last, callbacks, callback_kwargs, gradient_clipping_max_norm, gradient_clipping_norm_type, gradient_clipping_max_abs_value, pin_memory)\u001b[0m\n\u001b[0;32m    <a href='file:///c%3A/Users/Jannis/miniconda3/envs/kge/lib/site-packages/pykeen/training/training_loop.py?line=367'>368</a>\u001b[0m \u001b[39melse\u001b[39;00m:\n\u001b[0;32m    <a href='file:///c%3A/Users/Jannis/miniconda3/envs/kge/lib/site-packages/pykeen/training/training_loop.py?line=368'>369</a>\u001b[0m     \u001b[39m# send model to device before going into the internal training loop\u001b[39;00m\n\u001b[0;32m    <a href='file:///c%3A/Users/Jannis/miniconda3/envs/kge/lib/site-packages/pykeen/training/training_loop.py?line=369'>370</a>\u001b[0m     \u001b[39mself\u001b[39m\u001b[39m.\u001b[39mmodel \u001b[39m=\u001b[39m \u001b[39mself\u001b[39m\u001b[39m.\u001b[39mmodel\u001b[39m.\u001b[39mto(get_preferred_device(\u001b[39mself\u001b[39m\u001b[39m.\u001b[39mmodel, allow_ambiguity\u001b[39m=\u001b[39m\u001b[39mTrue\u001b[39;00m))\n\u001b[1;32m--> <a href='file:///c%3A/Users/Jannis/miniconda3/envs/kge/lib/site-packages/pykeen/training/training_loop.py?line=370'>371</a>\u001b[0m     result \u001b[39m=\u001b[39m \u001b[39mself\u001b[39;49m\u001b[39m.\u001b[39;49m_train(\n\u001b[0;32m    <a href='file:///c%3A/Users/Jannis/miniconda3/envs/kge/lib/site-packages/pykeen/training/training_loop.py?line=371'>372</a>\u001b[0m         num_epochs\u001b[39m=\u001b[39;49mnum_epochs,\n\u001b[0;32m    <a href='file:///c%3A/Users/Jannis/miniconda3/envs/kge/lib/site-packages/pykeen/training/training_loop.py?line=372'>373</a>\u001b[0m         batch_size\u001b[39m=\u001b[39;49mbatch_size,\n\u001b[0;32m    <a href='file:///c%3A/Users/Jannis/miniconda3/envs/kge/lib/site-packages/pykeen/training/training_loop.py?line=373'>374</a>\u001b[0m         slice_size\u001b[39m=\u001b[39;49mslice_size,\n\u001b[0;32m    <a href='file:///c%3A/Users/Jannis/miniconda3/envs/kge/lib/site-packages/pykeen/training/training_loop.py?line=374'>375</a>\u001b[0m         label_smoothing\u001b[39m=\u001b[39;49mlabel_smoothing,\n\u001b[0;32m    <a href='file:///c%3A/Users/Jannis/miniconda3/envs/kge/lib/site-packages/pykeen/training/training_loop.py?line=375'>376</a>\u001b[0m         sampler\u001b[39m=\u001b[39;49msampler,\n\u001b[0;32m    <a href='file:///c%3A/Users/Jannis/miniconda3/envs/kge/lib/site-packages/pykeen/training/training_loop.py?line=376'>377</a>\u001b[0m         continue_training\u001b[39m=\u001b[39;49mcontinue_training,\n\u001b[0;32m    <a href='file:///c%3A/Users/Jannis/miniconda3/envs/kge/lib/site-packages/pykeen/training/training_loop.py?line=377'>378</a>\u001b[0m         only_size_probing\u001b[39m=\u001b[39;49monly_size_probing,\n\u001b[0;32m    <a href='file:///c%3A/Users/Jannis/miniconda3/envs/kge/lib/site-packages/pykeen/training/training_loop.py?line=378'>379</a>\u001b[0m         use_tqdm\u001b[39m=\u001b[39;49muse_tqdm,\n\u001b[0;32m    <a href='file:///c%3A/Users/Jannis/miniconda3/envs/kge/lib/site-packages/pykeen/training/training_loop.py?line=379'>380</a>\u001b[0m         use_tqdm_batch\u001b[39m=\u001b[39;49muse_tqdm_batch,\n\u001b[0;32m    <a href='file:///c%3A/Users/Jannis/miniconda3/envs/kge/lib/site-packages/pykeen/training/training_loop.py?line=380'>381</a>\u001b[0m         tqdm_kwargs\u001b[39m=\u001b[39;49mtqdm_kwargs,\n\u001b[0;32m    <a href='file:///c%3A/Users/Jannis/miniconda3/envs/kge/lib/site-packages/pykeen/training/training_loop.py?line=381'>382</a>\u001b[0m         stopper\u001b[39m=\u001b[39;49mstopper,\n\u001b[0;32m    <a href='file:///c%3A/Users/Jannis/miniconda3/envs/kge/lib/site-packages/pykeen/training/training_loop.py?line=382'>383</a>\u001b[0m         sub_batch_size\u001b[39m=\u001b[39;49msub_batch_size,\n\u001b[0;32m    <a href='file:///c%3A/Users/Jannis/miniconda3/envs/kge/lib/site-packages/pykeen/training/training_loop.py?line=383'>384</a>\u001b[0m         num_workers\u001b[39m=\u001b[39;49mnum_workers,\n\u001b[0;32m    <a href='file:///c%3A/Users/Jannis/miniconda3/envs/kge/lib/site-packages/pykeen/training/training_loop.py?line=384'>385</a>\u001b[0m         save_checkpoints\u001b[39m=\u001b[39;49msave_checkpoints,\n\u001b[0;32m    <a href='file:///c%3A/Users/Jannis/miniconda3/envs/kge/lib/site-packages/pykeen/training/training_loop.py?line=385'>386</a>\u001b[0m         checkpoint_path\u001b[39m=\u001b[39;49mcheckpoint_path,\n\u001b[0;32m    <a href='file:///c%3A/Users/Jannis/miniconda3/envs/kge/lib/site-packages/pykeen/training/training_loop.py?line=386'>387</a>\u001b[0m         checkpoint_frequency\u001b[39m=\u001b[39;49mcheckpoint_frequency,\n\u001b[0;32m    <a href='file:///c%3A/Users/Jannis/miniconda3/envs/kge/lib/site-packages/pykeen/training/training_loop.py?line=387'>388</a>\u001b[0m         checkpoint_on_failure_file_path\u001b[39m=\u001b[39;49mcheckpoint_on_failure_file_path,\n\u001b[0;32m    <a href='file:///c%3A/Users/Jannis/miniconda3/envs/kge/lib/site-packages/pykeen/training/training_loop.py?line=388'>389</a>\u001b[0m         best_epoch_model_file_path\u001b[39m=\u001b[39;49mbest_epoch_model_file_path,\n\u001b[0;32m    <a href='file:///c%3A/Users/Jannis/miniconda3/envs/kge/lib/site-packages/pykeen/training/training_loop.py?line=389'>390</a>\u001b[0m         last_best_epoch\u001b[39m=\u001b[39;49mlast_best_epoch,\n\u001b[0;32m    <a href='file:///c%3A/Users/Jannis/miniconda3/envs/kge/lib/site-packages/pykeen/training/training_loop.py?line=390'>391</a>\u001b[0m         drop_last\u001b[39m=\u001b[39;49mdrop_last,\n\u001b[0;32m    <a href='file:///c%3A/Users/Jannis/miniconda3/envs/kge/lib/site-packages/pykeen/training/training_loop.py?line=391'>392</a>\u001b[0m         callbacks\u001b[39m=\u001b[39;49mcallbacks,\n\u001b[0;32m    <a href='file:///c%3A/Users/Jannis/miniconda3/envs/kge/lib/site-packages/pykeen/training/training_loop.py?line=392'>393</a>\u001b[0m         callback_kwargs\u001b[39m=\u001b[39;49mcallback_kwargs,\n\u001b[0;32m    <a href='file:///c%3A/Users/Jannis/miniconda3/envs/kge/lib/site-packages/pykeen/training/training_loop.py?line=393'>394</a>\u001b[0m         gradient_clipping_max_norm\u001b[39m=\u001b[39;49mgradient_clipping_max_norm,\n\u001b[0;32m    <a href='file:///c%3A/Users/Jannis/miniconda3/envs/kge/lib/site-packages/pykeen/training/training_loop.py?line=394'>395</a>\u001b[0m         gradient_clipping_norm_type\u001b[39m=\u001b[39;49mgradient_clipping_norm_type,\n\u001b[0;32m    <a href='file:///c%3A/Users/Jannis/miniconda3/envs/kge/lib/site-packages/pykeen/training/training_loop.py?line=395'>396</a>\u001b[0m         gradient_clipping_max_abs_value\u001b[39m=\u001b[39;49mgradient_clipping_max_abs_value,\n\u001b[0;32m    <a href='file:///c%3A/Users/Jannis/miniconda3/envs/kge/lib/site-packages/pykeen/training/training_loop.py?line=396'>397</a>\u001b[0m         triples_factory\u001b[39m=\u001b[39;49mtriples_factory,\n\u001b[0;32m    <a href='file:///c%3A/Users/Jannis/miniconda3/envs/kge/lib/site-packages/pykeen/training/training_loop.py?line=397'>398</a>\u001b[0m         pin_memory\u001b[39m=\u001b[39;49mpin_memory,\n\u001b[0;32m    <a href='file:///c%3A/Users/Jannis/miniconda3/envs/kge/lib/site-packages/pykeen/training/training_loop.py?line=398'>399</a>\u001b[0m     )\n\u001b[0;32m    <a href='file:///c%3A/Users/Jannis/miniconda3/envs/kge/lib/site-packages/pykeen/training/training_loop.py?line=400'>401</a>\u001b[0m \u001b[39m# Ensure the release of memory\u001b[39;00m\n\u001b[0;32m    <a href='file:///c%3A/Users/Jannis/miniconda3/envs/kge/lib/site-packages/pykeen/training/training_loop.py?line=401'>402</a>\u001b[0m torch\u001b[39m.\u001b[39mcuda\u001b[39m.\u001b[39mempty_cache()\n",
      "File \u001b[1;32mc:\\Users\\Jannis\\miniconda3\\envs\\kge\\lib\\site-packages\\pykeen\\training\\training_loop.py:725\u001b[0m, in \u001b[0;36mTrainingLoop._train\u001b[1;34m(self, triples_factory, num_epochs, batch_size, slice_size, label_smoothing, sampler, continue_training, only_size_probing, use_tqdm, use_tqdm_batch, tqdm_kwargs, stopper, sub_batch_size, num_workers, save_checkpoints, checkpoint_path, checkpoint_frequency, checkpoint_on_failure_file_path, best_epoch_model_file_path, last_best_epoch, drop_last, callbacks, callback_kwargs, gradient_clipping_max_norm, gradient_clipping_norm_type, gradient_clipping_max_abs_value, pin_memory)\u001b[0m\n\u001b[0;32m    <a href='file:///c%3A/Users/Jannis/miniconda3/envs/kge/lib/site-packages/pykeen/training/training_loop.py?line=722'>723</a>\u001b[0m     \u001b[39mif\u001b[39;00m best_epoch_model_file_path \u001b[39mis\u001b[39;00m \u001b[39mnot\u001b[39;00m \u001b[39mNone\u001b[39;00m \u001b[39mand\u001b[39;00m best_epoch_model_file_path\u001b[39m.\u001b[39mis_file():\n\u001b[0;32m    <a href='file:///c%3A/Users/Jannis/miniconda3/envs/kge/lib/site-packages/pykeen/training/training_loop.py?line=723'>724</a>\u001b[0m         os\u001b[39m.\u001b[39mremove(best_epoch_model_file_path)\n\u001b[1;32m--> <a href='file:///c%3A/Users/Jannis/miniconda3/envs/kge/lib/site-packages/pykeen/training/training_loop.py?line=724'>725</a>\u001b[0m     \u001b[39mraise\u001b[39;00m e\n\u001b[0;32m    <a href='file:///c%3A/Users/Jannis/miniconda3/envs/kge/lib/site-packages/pykeen/training/training_loop.py?line=726'>727</a>\u001b[0m \u001b[39m# Includes a call to result_tracker.log_metrics\u001b[39;00m\n\u001b[0;32m    <a href='file:///c%3A/Users/Jannis/miniconda3/envs/kge/lib/site-packages/pykeen/training/training_loop.py?line=727'>728</a>\u001b[0m callback\u001b[39m.\u001b[39mpost_epoch(epoch\u001b[39m=\u001b[39mepoch, epoch_loss\u001b[39m=\u001b[39mepoch_loss)\n",
      "File \u001b[1;32mc:\\Users\\Jannis\\miniconda3\\envs\\kge\\lib\\site-packages\\pykeen\\training\\training_loop.py:621\u001b[0m, in \u001b[0;36mTrainingLoop._train\u001b[1;34m(self, triples_factory, num_epochs, batch_size, slice_size, label_smoothing, sampler, continue_training, only_size_probing, use_tqdm, use_tqdm_batch, tqdm_kwargs, stopper, sub_batch_size, num_workers, save_checkpoints, checkpoint_path, checkpoint_frequency, checkpoint_on_failure_file_path, best_epoch_model_file_path, last_best_epoch, drop_last, callbacks, callback_kwargs, gradient_clipping_max_norm, gradient_clipping_norm_type, gradient_clipping_max_abs_value, pin_memory)\u001b[0m\n\u001b[0;32m    <a href='file:///c%3A/Users/Jannis/miniconda3/envs/kge/lib/site-packages/pykeen/training/training_loop.py?line=617'>618</a>\u001b[0m evaluated_once \u001b[39m=\u001b[39m \u001b[39mFalse\u001b[39;00m\n\u001b[0;32m    <a href='file:///c%3A/Users/Jannis/miniconda3/envs/kge/lib/site-packages/pykeen/training/training_loop.py?line=619'>620</a>\u001b[0m num_training_instances \u001b[39m=\u001b[39m \u001b[39m0\u001b[39m\n\u001b[1;32m--> <a href='file:///c%3A/Users/Jannis/miniconda3/envs/kge/lib/site-packages/pykeen/training/training_loop.py?line=620'>621</a>\u001b[0m \u001b[39mfor\u001b[39;00m batch \u001b[39min\u001b[39;00m batches:\n\u001b[0;32m    <a href='file:///c%3A/Users/Jannis/miniconda3/envs/kge/lib/site-packages/pykeen/training/training_loop.py?line=621'>622</a>\u001b[0m     \u001b[39m# Recall that torch *accumulates* gradients. Before passing in a\u001b[39;00m\n\u001b[0;32m    <a href='file:///c%3A/Users/Jannis/miniconda3/envs/kge/lib/site-packages/pykeen/training/training_loop.py?line=622'>623</a>\u001b[0m     \u001b[39m# new instance, you need to zero out the gradients from the old instance\u001b[39;00m\n\u001b[0;32m    <a href='file:///c%3A/Users/Jannis/miniconda3/envs/kge/lib/site-packages/pykeen/training/training_loop.py?line=623'>624</a>\u001b[0m     \u001b[39mself\u001b[39m\u001b[39m.\u001b[39moptimizer\u001b[39m.\u001b[39mzero_grad()\n\u001b[0;32m    <a href='file:///c%3A/Users/Jannis/miniconda3/envs/kge/lib/site-packages/pykeen/training/training_loop.py?line=625'>626</a>\u001b[0m     \u001b[39m# Get batch size of current batch (last batch may be incomplete)\u001b[39;00m\n",
      "File \u001b[1;32mc:\\Users\\Jannis\\miniconda3\\envs\\kge\\lib\\site-packages\\torch\\utils\\data\\dataloader.py:530\u001b[0m, in \u001b[0;36m_BaseDataLoaderIter.__next__\u001b[1;34m(self)\u001b[0m\n\u001b[0;32m    <a href='file:///c%3A/Users/Jannis/miniconda3/envs/kge/lib/site-packages/torch/utils/data/dataloader.py?line=527'>528</a>\u001b[0m \u001b[39mif\u001b[39;00m \u001b[39mself\u001b[39m\u001b[39m.\u001b[39m_sampler_iter \u001b[39mis\u001b[39;00m \u001b[39mNone\u001b[39;00m:\n\u001b[0;32m    <a href='file:///c%3A/Users/Jannis/miniconda3/envs/kge/lib/site-packages/torch/utils/data/dataloader.py?line=528'>529</a>\u001b[0m     \u001b[39mself\u001b[39m\u001b[39m.\u001b[39m_reset()\n\u001b[1;32m--> <a href='file:///c%3A/Users/Jannis/miniconda3/envs/kge/lib/site-packages/torch/utils/data/dataloader.py?line=529'>530</a>\u001b[0m data \u001b[39m=\u001b[39m \u001b[39mself\u001b[39;49m\u001b[39m.\u001b[39;49m_next_data()\n\u001b[0;32m    <a href='file:///c%3A/Users/Jannis/miniconda3/envs/kge/lib/site-packages/torch/utils/data/dataloader.py?line=530'>531</a>\u001b[0m \u001b[39mself\u001b[39m\u001b[39m.\u001b[39m_num_yielded \u001b[39m+\u001b[39m\u001b[39m=\u001b[39m \u001b[39m1\u001b[39m\n\u001b[0;32m    <a href='file:///c%3A/Users/Jannis/miniconda3/envs/kge/lib/site-packages/torch/utils/data/dataloader.py?line=531'>532</a>\u001b[0m \u001b[39mif\u001b[39;00m \u001b[39mself\u001b[39m\u001b[39m.\u001b[39m_dataset_kind \u001b[39m==\u001b[39m _DatasetKind\u001b[39m.\u001b[39mIterable \u001b[39mand\u001b[39;00m \\\n\u001b[0;32m    <a href='file:///c%3A/Users/Jannis/miniconda3/envs/kge/lib/site-packages/torch/utils/data/dataloader.py?line=532'>533</a>\u001b[0m         \u001b[39mself\u001b[39m\u001b[39m.\u001b[39m_IterableDataset_len_called \u001b[39mis\u001b[39;00m \u001b[39mnot\u001b[39;00m \u001b[39mNone\u001b[39;00m \u001b[39mand\u001b[39;00m \\\n\u001b[0;32m    <a href='file:///c%3A/Users/Jannis/miniconda3/envs/kge/lib/site-packages/torch/utils/data/dataloader.py?line=533'>534</a>\u001b[0m         \u001b[39mself\u001b[39m\u001b[39m.\u001b[39m_num_yielded \u001b[39m>\u001b[39m \u001b[39mself\u001b[39m\u001b[39m.\u001b[39m_IterableDataset_len_called:\n",
      "File \u001b[1;32mc:\\Users\\Jannis\\miniconda3\\envs\\kge\\lib\\site-packages\\torch\\utils\\data\\dataloader.py:570\u001b[0m, in \u001b[0;36m_SingleProcessDataLoaderIter._next_data\u001b[1;34m(self)\u001b[0m\n\u001b[0;32m    <a href='file:///c%3A/Users/Jannis/miniconda3/envs/kge/lib/site-packages/torch/utils/data/dataloader.py?line=567'>568</a>\u001b[0m \u001b[39mdef\u001b[39;00m \u001b[39m_next_data\u001b[39m(\u001b[39mself\u001b[39m):\n\u001b[0;32m    <a href='file:///c%3A/Users/Jannis/miniconda3/envs/kge/lib/site-packages/torch/utils/data/dataloader.py?line=568'>569</a>\u001b[0m     index \u001b[39m=\u001b[39m \u001b[39mself\u001b[39m\u001b[39m.\u001b[39m_next_index()  \u001b[39m# may raise StopIteration\u001b[39;00m\n\u001b[1;32m--> <a href='file:///c%3A/Users/Jannis/miniconda3/envs/kge/lib/site-packages/torch/utils/data/dataloader.py?line=569'>570</a>\u001b[0m     data \u001b[39m=\u001b[39m \u001b[39mself\u001b[39;49m\u001b[39m.\u001b[39;49m_dataset_fetcher\u001b[39m.\u001b[39;49mfetch(index)  \u001b[39m# may raise StopIteration\u001b[39;00m\n\u001b[0;32m    <a href='file:///c%3A/Users/Jannis/miniconda3/envs/kge/lib/site-packages/torch/utils/data/dataloader.py?line=570'>571</a>\u001b[0m     \u001b[39mif\u001b[39;00m \u001b[39mself\u001b[39m\u001b[39m.\u001b[39m_pin_memory:\n\u001b[0;32m    <a href='file:///c%3A/Users/Jannis/miniconda3/envs/kge/lib/site-packages/torch/utils/data/dataloader.py?line=571'>572</a>\u001b[0m         data \u001b[39m=\u001b[39m _utils\u001b[39m.\u001b[39mpin_memory\u001b[39m.\u001b[39mpin_memory(data)\n",
      "File \u001b[1;32mc:\\Users\\Jannis\\miniconda3\\envs\\kge\\lib\\site-packages\\torch\\utils\\data\\_utils\\fetch.py:39\u001b[0m, in \u001b[0;36m_IterableDatasetFetcher.fetch\u001b[1;34m(self, possibly_batched_index)\u001b[0m\n\u001b[0;32m     <a href='file:///c%3A/Users/Jannis/miniconda3/envs/kge/lib/site-packages/torch/utils/data/_utils/fetch.py?line=36'>37</a>\u001b[0m         \u001b[39mraise\u001b[39;00m \u001b[39mStopIteration\u001b[39;00m\n\u001b[0;32m     <a href='file:///c%3A/Users/Jannis/miniconda3/envs/kge/lib/site-packages/torch/utils/data/_utils/fetch.py?line=37'>38</a>\u001b[0m \u001b[39melse\u001b[39;00m:\n\u001b[1;32m---> <a href='file:///c%3A/Users/Jannis/miniconda3/envs/kge/lib/site-packages/torch/utils/data/_utils/fetch.py?line=38'>39</a>\u001b[0m     data \u001b[39m=\u001b[39m \u001b[39mnext\u001b[39;49m(\u001b[39mself\u001b[39;49m\u001b[39m.\u001b[39;49mdataset_iter)\n\u001b[0;32m     <a href='file:///c%3A/Users/Jannis/miniconda3/envs/kge/lib/site-packages/torch/utils/data/_utils/fetch.py?line=39'>40</a>\u001b[0m \u001b[39mreturn\u001b[39;00m \u001b[39mself\u001b[39m\u001b[39m.\u001b[39mcollate_fn(data)\n",
      "File \u001b[1;32mc:\\Users\\Jannis\\miniconda3\\envs\\kge\\lib\\site-packages\\pykeen\\triples\\instances.py:232\u001b[0m, in \u001b[0;36mBaseBatchedSLCWAInstances.__iter__\u001b[1;34m(self)\u001b[0m\n\u001b[0;32m    <a href='file:///c%3A/Users/Jannis/miniconda3/envs/kge/lib/site-packages/pykeen/triples/instances.py?line=229'>230</a>\u001b[0m \u001b[39m\"\"\"Iterate over batches.\"\"\"\u001b[39;00m\n\u001b[0;32m    <a href='file:///c%3A/Users/Jannis/miniconda3/envs/kge/lib/site-packages/pykeen/triples/instances.py?line=230'>231</a>\u001b[0m \u001b[39mfor\u001b[39;00m triple_ids \u001b[39min\u001b[39;00m \u001b[39mself\u001b[39m\u001b[39m.\u001b[39miter_triple_ids():\n\u001b[1;32m--> <a href='file:///c%3A/Users/Jannis/miniconda3/envs/kge/lib/site-packages/pykeen/triples/instances.py?line=231'>232</a>\u001b[0m     \u001b[39myield\u001b[39;00m \u001b[39mself\u001b[39;49m[triple_ids]\n",
      "File \u001b[1;32mc:\\Users\\Jannis\\miniconda3\\envs\\kge\\lib\\site-packages\\pykeen\\triples\\instances.py:207\u001b[0m, in \u001b[0;36mBaseBatchedSLCWAInstances.__getitem__\u001b[1;34m(self, item)\u001b[0m\n\u001b[0;32m    <a href='file:///c%3A/Users/Jannis/miniconda3/envs/kge/lib/site-packages/pykeen/triples/instances.py?line=204'>205</a>\u001b[0m \u001b[39m\"\"\"Get a batch from the given list of positive triple IDs.\"\"\"\u001b[39;00m\n\u001b[0;32m    <a href='file:///c%3A/Users/Jannis/miniconda3/envs/kge/lib/site-packages/pykeen/triples/instances.py?line=205'>206</a>\u001b[0m positive_batch \u001b[39m=\u001b[39m \u001b[39mself\u001b[39m\u001b[39m.\u001b[39mmapped_triples[item]\n\u001b[1;32m--> <a href='file:///c%3A/Users/Jannis/miniconda3/envs/kge/lib/site-packages/pykeen/triples/instances.py?line=206'>207</a>\u001b[0m negative_batch, masks \u001b[39m=\u001b[39m \u001b[39mself\u001b[39;49m\u001b[39m.\u001b[39;49mnegative_sampler\u001b[39m.\u001b[39;49msample(positive_batch\u001b[39m=\u001b[39;49mpositive_batch)\n\u001b[0;32m    <a href='file:///c%3A/Users/Jannis/miniconda3/envs/kge/lib/site-packages/pykeen/triples/instances.py?line=207'>208</a>\u001b[0m \u001b[39mreturn\u001b[39;00m SLCWABatch(positives\u001b[39m=\u001b[39mpositive_batch, negatives\u001b[39m=\u001b[39mnegative_batch, masks\u001b[39m=\u001b[39mmasks)\n",
      "File \u001b[1;32mc:\\Users\\Jannis\\miniconda3\\envs\\kge\\lib\\site-packages\\pykeen\\sampling\\negative_sampler.py:100\u001b[0m, in \u001b[0;36mNegativeSampler.sample\u001b[1;34m(self, positive_batch)\u001b[0m\n\u001b[0;32m     <a href='file:///c%3A/Users/Jannis/miniconda3/envs/kge/lib/site-packages/pykeen/sampling/negative_sampler.py?line=83'>84</a>\u001b[0m \u001b[39m\"\"\"\u001b[39;00m\n\u001b[0;32m     <a href='file:///c%3A/Users/Jannis/miniconda3/envs/kge/lib/site-packages/pykeen/sampling/negative_sampler.py?line=84'>85</a>\u001b[0m \u001b[39mGenerate negative samples from the positive batch.\u001b[39;00m\n\u001b[0;32m     <a href='file:///c%3A/Users/Jannis/miniconda3/envs/kge/lib/site-packages/pykeen/sampling/negative_sampler.py?line=85'>86</a>\u001b[0m \n\u001b[1;32m   (...)\u001b[0m\n\u001b[0;32m     <a href='file:///c%3A/Users/Jannis/miniconda3/envs/kge/lib/site-packages/pykeen/sampling/negative_sampler.py?line=96'>97</a>\u001b[0m \u001b[39m       An optional filter mask. True where negative samples are valid.\u001b[39;00m\n\u001b[0;32m     <a href='file:///c%3A/Users/Jannis/miniconda3/envs/kge/lib/site-packages/pykeen/sampling/negative_sampler.py?line=97'>98</a>\u001b[0m \u001b[39m\"\"\"\u001b[39;00m\n\u001b[0;32m     <a href='file:///c%3A/Users/Jannis/miniconda3/envs/kge/lib/site-packages/pykeen/sampling/negative_sampler.py?line=98'>99</a>\u001b[0m \u001b[39m# create unfiltered negative batch by corruption\u001b[39;00m\n\u001b[1;32m--> <a href='file:///c%3A/Users/Jannis/miniconda3/envs/kge/lib/site-packages/pykeen/sampling/negative_sampler.py?line=99'>100</a>\u001b[0m negative_batch \u001b[39m=\u001b[39m \u001b[39mself\u001b[39;49m\u001b[39m.\u001b[39;49mcorrupt_batch(positive_batch\u001b[39m=\u001b[39;49mpositive_batch)\n\u001b[0;32m    <a href='file:///c%3A/Users/Jannis/miniconda3/envs/kge/lib/site-packages/pykeen/sampling/negative_sampler.py?line=101'>102</a>\u001b[0m \u001b[39mif\u001b[39;00m \u001b[39mself\u001b[39m\u001b[39m.\u001b[39mfilterer \u001b[39mis\u001b[39;00m \u001b[39mNone\u001b[39;00m:\n\u001b[0;32m    <a href='file:///c%3A/Users/Jannis/miniconda3/envs/kge/lib/site-packages/pykeen/sampling/negative_sampler.py?line=102'>103</a>\u001b[0m     \u001b[39mreturn\u001b[39;00m negative_batch, \u001b[39mNone\u001b[39;00m\n",
      "File \u001b[1;32md:\\Master Angewandte Informatik\\Masterarbeit\\custom_code\\esns.py:228\u001b[0m, in \u001b[0;36mESNSRelaxed.corrupt_batch\u001b[1;34m(self, positive_batch)\u001b[0m\n\u001b[0;32m    <a href='file:///d%3A/Master%20Angewandte%20Informatik/Masterarbeit/custom_code/esns.py?line=221'>222</a>\u001b[0m start \u001b[39m=\u001b[39m time\u001b[39m.\u001b[39mtime()\n\u001b[0;32m    <a href='file:///d%3A/Master%20Angewandte%20Informatik/Masterarbeit/custom_code/esns.py?line=222'>223</a>\u001b[0m \u001b[39mfor\u001b[39;00m index, mask \u001b[39min\u001b[39;00m (\n\u001b[0;32m    <a href='file:///d%3A/Master%20Angewandte%20Informatik/Masterarbeit/custom_code/esns.py?line=223'>224</a>\u001b[0m     (COLUMN_HEAD, head_mask),\n\u001b[0;32m    <a href='file:///d%3A/Master%20Angewandte%20Informatik/Masterarbeit/custom_code/esns.py?line=224'>225</a>\u001b[0m     \u001b[39m# Tails are corrupted if heads are not corrupted\u001b[39;00m\n\u001b[0;32m    <a href='file:///d%3A/Master%20Angewandte%20Informatik/Masterarbeit/custom_code/esns.py?line=225'>226</a>\u001b[0m     (COLUMN_TAIL, \u001b[39m~\u001b[39mhead_mask),\n\u001b[0;32m    <a href='file:///d%3A/Master%20Angewandte%20Informatik/Masterarbeit/custom_code/esns.py?line=226'>227</a>\u001b[0m ):  \n\u001b[1;32m--> <a href='file:///d%3A/Master%20Angewandte%20Informatik/Masterarbeit/custom_code/esns.py?line=227'>228</a>\u001b[0m     \u001b[39mself\u001b[39;49m\u001b[39m.\u001b[39;49m_esns_replacement(\n\u001b[0;32m    <a href='file:///d%3A/Master%20Angewandte%20Informatik/Masterarbeit/custom_code/esns.py?line=228'>229</a>\u001b[0m         batch\u001b[39m=\u001b[39;49mnegative_batch,\n\u001b[0;32m    <a href='file:///d%3A/Master%20Angewandte%20Informatik/Masterarbeit/custom_code/esns.py?line=229'>230</a>\u001b[0m         index\u001b[39m=\u001b[39;49mindex,\n\u001b[0;32m    <a href='file:///d%3A/Master%20Angewandte%20Informatik/Masterarbeit/custom_code/esns.py?line=230'>231</a>\u001b[0m         selection\u001b[39m=\u001b[39;49mmask,\n\u001b[0;32m    <a href='file:///d%3A/Master%20Angewandte%20Informatik/Masterarbeit/custom_code/esns.py?line=231'>232</a>\u001b[0m         size\u001b[39m=\u001b[39;49mmask\u001b[39m.\u001b[39;49msum(),\n\u001b[0;32m    <a href='file:///d%3A/Master%20Angewandte%20Informatik/Masterarbeit/custom_code/esns.py?line=232'>233</a>\u001b[0m         max_index\u001b[39m=\u001b[39;49m\u001b[39mself\u001b[39;49m\u001b[39m.\u001b[39;49mnum_entities,\n\u001b[0;32m    <a href='file:///d%3A/Master%20Angewandte%20Informatik/Masterarbeit/custom_code/esns.py?line=233'>234</a>\u001b[0m     )\n\u001b[0;32m    <a href='file:///d%3A/Master%20Angewandte%20Informatik/Masterarbeit/custom_code/esns.py?line=234'>235</a>\u001b[0m \u001b[39mprint\u001b[39m(time\u001b[39m.\u001b[39mtime() \u001b[39m-\u001b[39m start)\n\u001b[0;32m    <a href='file:///d%3A/Master%20Angewandte%20Informatik/Masterarbeit/custom_code/esns.py?line=235'>236</a>\u001b[0m \u001b[39mreturn\u001b[39;00m negative_batch\u001b[39m.\u001b[39mview(\u001b[39m*\u001b[39mbatch_shape, \u001b[39mself\u001b[39m\u001b[39m.\u001b[39mnum_negs_per_pos, \u001b[39m3\u001b[39m)\n",
      "File \u001b[1;32md:\\Master Angewandte Informatik\\Masterarbeit\\custom_code\\esns.py:181\u001b[0m, in \u001b[0;36mESNSRelaxed._esns_replacement\u001b[1;34m(self, batch, index, selection, size, max_index)\u001b[0m\n\u001b[0;32m    <a href='file:///d%3A/Master%20Angewandte%20Informatik/Masterarbeit/custom_code/esns.py?line=174'>175</a>\u001b[0m eii \u001b[39m=\u001b[39m (\u001b[39mself\u001b[39m\u001b[39m.\u001b[39meii_h \u001b[39mif\u001b[39;00m index \u001b[39m==\u001b[39m COLUMN_HEAD \u001b[39melse\u001b[39;00m \u001b[39mself\u001b[39m\u001b[39m.\u001b[39meii_t)\n\u001b[0;32m    <a href='file:///d%3A/Master%20Angewandte%20Informatik/Masterarbeit/custom_code/esns.py?line=175'>176</a>\u001b[0m \u001b[39m#quality_candidates = [self._get_quality_candidates(eii[x], uniform_sample_set[i]) \u001b[39;00m\n\u001b[0;32m    <a href='file:///d%3A/Master%20Angewandte%20Informatik/Masterarbeit/custom_code/esns.py?line=176'>177</a>\u001b[0m \u001b[39m#        for i, x in enumerate(batch[selection,index].tolist())]\u001b[39;00m\n\u001b[0;32m    <a href='file:///d%3A/Master%20Angewandte%20Informatik/Masterarbeit/custom_code/esns.py?line=177'>178</a>\u001b[0m \n\u001b[0;32m    <a href='file:///d%3A/Master%20Angewandte%20Informatik/Masterarbeit/custom_code/esns.py?line=178'>179</a>\u001b[0m \u001b[39m# create tensor with one row per triple in selection, containing row from eii corresponding to head or tail value\u001b[39;00m\n\u001b[0;32m    <a href='file:///d%3A/Master%20Angewandte%20Informatik/Masterarbeit/custom_code/esns.py?line=179'>180</a>\u001b[0m \u001b[39m#similar_entities = index_select_sparse(eii, 0, batch[selection,index]).to_dense()\u001b[39;00m\n\u001b[1;32m--> <a href='file:///d%3A/Master%20Angewandte%20Informatik/Masterarbeit/custom_code/esns.py?line=180'>181</a>\u001b[0m indices_similar_entities \u001b[39m=\u001b[39m eii\u001b[39m.\u001b[39;49mindex_select(dim\u001b[39m=\u001b[39;49m\u001b[39m2\u001b[39;49m, index\u001b[39m=\u001b[39;49mbatch[selection,index])\u001b[39m.\u001b[39;49mview(\u001b[39m-\u001b[39;49m\u001b[39m1\u001b[39;49m, \u001b[39mself\u001b[39;49m\u001b[39m.\u001b[39;49mindex_column_size\u001b[39m*\u001b[39;49msize)\n\u001b[0;32m    <a href='file:///d%3A/Master%20Angewandte%20Informatik/Masterarbeit/custom_code/esns.py?line=181'>182</a>\u001b[0m similar_entities \u001b[39m=\u001b[39m torch\u001b[39m.\u001b[39mzeros(size, \u001b[39mself\u001b[39m\u001b[39m.\u001b[39mnum_entities)\n\u001b[0;32m    <a href='file:///d%3A/Master%20Angewandte%20Informatik/Masterarbeit/custom_code/esns.py?line=182'>183</a>\u001b[0m similar_entities[torch\u001b[39m.\u001b[39mrepeat_interleave(torch\u001b[39m.\u001b[39mtensor(\u001b[39mlist\u001b[39m(\u001b[39mrange\u001b[39m(size))), \u001b[39mself\u001b[39m\u001b[39m.\u001b[39mindex_column_size), indices_similar_entities[\u001b[39m1\u001b[39m]\u001b[39m.\u001b[39mlong()] \u001b[39m=\u001b[39m indices_similar_entities[\u001b[39m2\u001b[39m] \n",
      "\u001b[1;31mRuntimeError\u001b[0m: cannot reshape tensor of 0 elements into shape [-1, 0] because the unspecified dimension size -1 can be any value and is ambiguous"
     ]
    }
   ],
   "source": [
    "result = pipeline(\n",
    "    dataset='WN18',\n",
    "    model='TransE',\n",
    "    negative_sampler=ESNSRelaxed,\n",
    "    negative_sampler_kwargs=dict(\n",
    "        index_column_size=1000,\n",
    "        index_path=\"EII/WN18\",\n",
    "        sampling_size=100,\n",
    "        q_set_size=50,\n",
    "        similarity_metric=\"absolute\"\n",
    "    ),\n",
    "    # Training configuration\n",
    "    training_kwargs=dict(\n",
    "        num_epochs=100,\n",
    "        use_tqdm_batch=False,\n",
    "        batch_size=8\n",
    "    ),  \n",
    "    # Runtime configuration\n",
    "    random_seed=1235,\n",
    "    device='cpu',\n",
    ")"
   ]
  },
  {
   "cell_type": "code",
   "execution_count": 3,
   "metadata": {},
   "outputs": [],
   "source": [
    "import torch\n",
    "\n",
    "t1 = torch.tensor([[1, 9, 12, 5, 24], [1,0,3,9,2]])\n",
    "t2 = torch.tensor([1, 24])\n",
    "\n",
    "# Create a tensor to compare all values at once\n",
    "compareview = t2.repeat(t1.shape[1],1).T"
   ]
  },
  {
   "cell_type": "code",
   "execution_count": 4,
   "metadata": {},
   "outputs": [],
   "source": [
    "fruit = \"Apple\"\n",
    "answer = ('Yes' if fruit == 'Apple' else 'No')"
   ]
  },
  {
   "cell_type": "code",
   "execution_count": 5,
   "metadata": {},
   "outputs": [
    {
     "data": {
      "text/plain": [
       "'Yes'"
      ]
     },
     "execution_count": 5,
     "metadata": {},
     "output_type": "execute_result"
    }
   ],
   "source": [
    "answer"
   ]
  },
  {
   "cell_type": "code",
   "execution_count": 6,
   "metadata": {},
   "outputs": [
    {
     "data": {
      "text/plain": [
       "tensor([[ 1,  1,  1,  1,  1],\n",
       "        [24, 24, 24, 24, 24]])"
      ]
     },
     "execution_count": 6,
     "metadata": {},
     "output_type": "execute_result"
    }
   ],
   "source": [
    "compareview"
   ]
  },
  {
   "cell_type": "code",
   "execution_count": 7,
   "metadata": {},
   "outputs": [
    {
     "name": "stdout",
     "output_type": "stream",
     "text": [
      "(0, 8)\n",
      "(1, 3)\n",
      "(2, 4)\n"
     ]
    }
   ],
   "source": [
    "test = [8,3,4]\n",
    "for i in enumerate(test):\n",
    "    print(i)"
   ]
  },
  {
   "cell_type": "code",
   "execution_count": 8,
   "metadata": {},
   "outputs": [
    {
     "data": {
      "text/plain": [
       "tensor([[ 2,  4,  6],\n",
       "        [12,  8, 10],\n",
       "        [14, 16, 18]])"
      ]
     },
     "execution_count": 8,
     "metadata": {},
     "output_type": "execute_result"
    }
   ],
   "source": [
    "import torch\n",
    "test1 = torch.tensor([[1,2,3], [6,4,5], [7,8,9]])\n",
    "test1.index_select(dim=0, index=torch.tensor([0,2,1,0,2,1,0,0]))\n",
    "\n",
    "test2 = torch.tensor([[2,2,2], [2,2,2], [2,2,2]])\n",
    "\n",
    "test1 * test2"
   ]
  },
  {
   "cell_type": "code",
   "execution_count": 24,
   "metadata": {},
   "outputs": [
    {
     "data": {
      "text/plain": [
       "torch.return_types.topk(\n",
       "values=tensor([[3, 2],\n",
       "        [6, 5],\n",
       "        [9, 8]]),\n",
       "indices=tensor([[2, 1],\n",
       "        [0, 2],\n",
       "        [2, 1]]))"
      ]
     },
     "execution_count": 24,
     "metadata": {},
     "output_type": "execute_result"
    }
   ],
   "source": [
    "test1.topk(k=2,dim=1,sorted=False)"
   ]
  },
  {
   "cell_type": "code",
   "execution_count": 9,
   "metadata": {},
   "outputs": [
    {
     "data": {
      "text/plain": [
       "tensor([[6, 6, 6],\n",
       "        [6, 4, 6],\n",
       "        [7, 8, 6]])"
      ]
     },
     "execution_count": 9,
     "metadata": {},
     "output_type": "execute_result"
    }
   ],
   "source": [
    "test1[..., 2] = torch.tensor(test)\n",
    "test1"
   ]
  },
  {
   "cell_type": "code",
   "execution_count": 5,
   "metadata": {},
   "outputs": [
    {
     "data": {
      "text/plain": [
       "tensor([6, 6, 6, 0])"
      ]
     },
     "execution_count": 5,
     "metadata": {},
     "output_type": "execute_result"
    }
   ],
   "source": [
    "import torch\n",
    "import torch.nn.functional as F\n",
    "\n",
    "test = torch.tensor([6,6,6])\n",
    "\n",
    "F.pad(input=test, pad=[0,1], value=0)"
   ]
  },
  {
   "cell_type": "code",
   "execution_count": 14,
   "metadata": {},
   "outputs": [
    {
     "name": "stdout",
     "output_type": "stream",
     "text": [
      "tensor([[1, 1, 1, 2],\n",
      "        [2, 1, 2, 2]])\n"
     ]
    }
   ],
   "source": [
    "test = torch.tensor([[[1,1],[1,2]], [[2,1], [2,2]]])\n",
    "print(test.view(-1,2*2))"
   ]
  },
  {
   "cell_type": "code",
   "execution_count": 13,
   "metadata": {},
   "outputs": [
    {
     "data": {
      "text/plain": [
       "tensor([0, 0, 1, 1, 2, 2])"
      ]
     },
     "execution_count": 13,
     "metadata": {},
     "output_type": "execute_result"
    }
   ],
   "source": [
    "test = torch.tensor(list(range(3)))\n",
    "\n",
    "torch.repeat_interleave(test, 2)"
   ]
  },
  {
   "cell_type": "code",
   "execution_count": null,
   "metadata": {},
   "outputs": [],
   "source": [
    "import ftplib\n",
    "import hashlib\n",
    "import json\n",
    "import logging\n",
    "import os\n",
    "import pathlib\n",
    "import pickle\n",
    "import time\n",
    "from dataclasses import dataclass, field\n",
    "from typing import (\n",
    "    Any,\n",
    "    ClassVar,\n",
    "    Collection,\n",
    "    Dict,\n",
    "    Iterable,\n",
    "    List,\n",
    "    Mapping,\n",
    "    MutableMapping,\n",
    "    Optional,\n",
    "    Tuple,\n",
    "    Type,\n",
    "    Union,\n",
    "    cast,\n",
    ")\n",
    "\n",
    "import pandas as pd\n",
    "import scipy.stats\n",
    "import torch\n",
    "from class_resolver.utils import OneOrManyHintOrType, OneOrManyOptionalKwargs\n",
    "from torch.optim.optimizer import Optimizer\n",
    "\n",
    "from ..constants import PYKEEN_CHECKPOINTS, USER_DEFINED_CODE\n",
    "from ..datasets import get_dataset\n",
    "from ..datasets.base import Dataset\n",
    "from ..evaluation import Evaluator, MetricResults, evaluator_resolver\n",
    "from ..evaluation.ranking_metric_lookup import normalize_flattened_metric_results\n",
    "from ..losses import Loss, loss_resolver\n",
    "from ..lr_schedulers import LRScheduler, lr_scheduler_resolver\n",
    "from ..models import Model, make_model_cls, model_resolver\n",
    "from ..nn.modules import Interaction\n",
    "from ..optimizers import optimizer_resolver\n",
    "from ..regularizers import Regularizer, regularizer_resolver\n",
    "from ..sampling import NegativeSampler, negative_sampler_resolver\n",
    "from ..stoppers import EarlyStopper, Stopper, stopper_resolver\n",
    "from ..trackers import ResultTracker, resolve_result_trackers\n",
    "from ..training import SLCWATrainingLoop, TrainingLoop, training_loop_resolver\n",
    "from ..triples import CoreTriplesFactory\n",
    "from ..typing import Hint, HintType, MappedTriples\n",
    "from ..utils import (\n",
    "    Result,\n",
    "    ensure_ftp_directory,\n",
    "    fix_dataclass_init_docs,\n",
    "    get_json_bytes_io,\n",
    "    get_model_io,\n",
    "    load_configuration,\n",
    "    normalize_path,\n",
    "    random_non_negative_int,\n",
    "    resolve_device,\n",
    "    set_random_seed,\n",
    ")\n",
    "from ..version import get_git_hash, get_version"
   ]
  }
 ],
 "metadata": {
  "interpreter": {
   "hash": "e76fc96f2b997eed3d49ce6d8b3f7911293345ed62f3081bed613f41739aebe2"
  },
  "kernelspec": {
   "display_name": "Python 3.10.4 ('kge')",
   "language": "python",
   "name": "python3"
  },
  "language_info": {
   "codemirror_mode": {
    "name": "ipython",
    "version": 3
   },
   "file_extension": ".py",
   "mimetype": "text/x-python",
   "name": "python",
   "nbconvert_exporter": "python",
   "pygments_lexer": "ipython3",
   "version": "3.10.4"
  },
  "orig_nbformat": 4
 },
 "nbformat": 4,
 "nbformat_minor": 2
}
