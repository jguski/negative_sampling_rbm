{
 "cells": [
  {
   "cell_type": "code",
   "execution_count": null,
   "metadata": {},
   "outputs": [],
   "source": [
    "from pipeline_modified import pipeline\n",
    "from slcwa_modified import SLCWATrainingLoopModified\n",
    "from esns_ridle import ESNSRidle\n",
    "from esns_relaxed import ESNSRelaxed"
   ]
  },
  {
   "cell_type": "code",
   "execution_count": null,
   "metadata": {},
   "outputs": [],
   "source": [
    "result = pipeline(\n",
    "    dataset='Nations',\n",
    "    model='TransE',\n",
    "    negative_sampler=ESNSRelaxed,\n",
    "    negative_sampler_kwargs=dict(\n",
    "        index_column_size=1000,\n",
    "        sampling_size=100,\n",
    "        q_set_size=50,\n",
    "        similarity_metric=\"absolute\",\n",
    "        n_triples_for_ns_qual_analysis=1,\n",
    "        ns_qual_analysis_every = 20,\n",
    "    ),\n",
    "    # Training configuration\n",
    "    training_kwargs=dict(\n",
    "        num_epochs=100,\n",
    "        use_tqdm_batch=False,\n",
    "        #checkpoint_name=os.getcwd()+\"/checkpoints/test.pt\",\n",
    "    ),  \n",
    "    training_loop=SLCWATrainingLoopModified,\n",
    "    # Runtime configuration\n",
    "    random_seed=1235,\n",
    "    device='gpu',\n",
    "    #stopper='early',\n",
    "    #stopper_kwargs=dict(frequency=5, patience=2, relative_delta=0.002),\n",
    ")"
   ]
  }
 ],
 "metadata": {
  "kernelspec": {
   "display_name": "Python 3.10.4 ('kge')",
   "language": "python",
   "name": "python3"
  },
  "language_info": {
   "codemirror_mode": {
    "name": "ipython",
    "version": 3
   },
   "file_extension": ".py",
   "mimetype": "text/x-python",
   "name": "python",
   "nbconvert_exporter": "python",
   "pygments_lexer": "ipython3",
   "version": "3.10.4"
  },
  "orig_nbformat": 4,
  "vscode": {
   "interpreter": {
    "hash": "e76fc96f2b997eed3d49ce6d8b3f7911293345ed62f3081bed613f41739aebe2"
   }
  }
 },
 "nbformat": 4,
 "nbformat_minor": 2
}
