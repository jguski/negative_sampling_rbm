{
 "cells": [
  {
   "cell_type": "code",
   "execution_count": null,
   "metadata": {},
   "outputs": [],
   "source": [
    "from pipeline import pipeline\n",
    "from esns_relaxed import ESNSRelaxed"
   ]
  },
  {
   "cell_type": "code",
   "execution_count": null,
   "metadata": {},
   "outputs": [],
   "source": [
    "result = pipeline(\n",
    "    dataset='WN18',\n",
    "    model='TransE',\n",
    "    negative_sampler=ESNSRelaxed,\n",
    "    negative_sampler_kwargs=dict(\n",
    "        index_column_size=1000,\n",
    "        index_path=\"EII/WN18\",\n",
    "        sampling_size=100,\n",
    "        q_set_size=50,\n",
    "        similarity_metric=\"absolute\",\n",
    "\n",
    "    ),\n",
    "    # Training configuration\n",
    "    training_kwargs=dict(\n",
    "        num_epochs=0,\n",
    "        use_tqdm_batch=False,\n",
    "        #checkpoint_name=os.getcwd()+\"/checkpoints/test.pt\",\n",
    "    ),  \n",
    "    # Runtime configuration\n",
    "    random_seed=1235,\n",
    "    device='gpu',\n",
    ")"
   ]
  }
 ],
 "metadata": {
  "language_info": {
   "name": "python"
  },
  "orig_nbformat": 4
 },
 "nbformat": 4,
 "nbformat_minor": 2
}
